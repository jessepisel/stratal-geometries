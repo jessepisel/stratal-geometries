{
 "cells": [
  {
   "cell_type": "code",
   "execution_count": null,
   "metadata": {},
   "outputs": [],
   "source": [
    "import pandas as pd\n",
    "import matplotlib.pyplot as plt\n",
    "import seaborn as sns\n",
    "from sklearn.model_selection import train_test_split\n",
    "from sklearn.model_selection import cross_val_score\n",
    "from sklearn.model_selection import GridSearchCV\n",
    "from sklearn.ensemble import RandomForestClassifier\n",
    "from sklearn import preprocessing\n",
    "\n",
    "sns.set()"
   ]
  },
  {
   "cell_type": "code",
   "execution_count": null,
   "metadata": {},
   "outputs": [],
   "source": [
    "%matplotlib inline"
   ]
  },
  {
   "cell_type": "code",
   "execution_count": null,
   "metadata": {},
   "outputs": [],
   "source": [
    "def flatten(container):\n",
    "    \"Flattens lists\"\n",
    "    for i in container:\n",
    "        if isinstance(i, (list, tuple)):\n",
    "            for j in flatten(i):\n",
    "                yield j\n",
    "        else:\n",
    "            yield i\n",
    "\n",
    "def feature_list(no_of_neighbors):\n",
    "    \"\"\"\n",
    "    Creates a list of features given number of adjacent wells\n",
    "    param no_of_neighbors: number of adjacent wells used in feature engineering\n",
    "    \"\"\"\n",
    "    print(\"Getting the features\")\n",
    "    initial = [\"thickness\", \"thickness natural log\", \"thickness power\"]\n",
    "    features = []\n",
    "    for item in initial:\n",
    "        features.append(item)\n",
    "        for i in range(1, no_of_neighbors + 1):\n",
    "            features.append(item + \" neighbor \" + str(i))\n",
    "    features.append([\"x location\", \"y location\", \"class\"])\n",
    "    return list(flatten(features))"
   ]
  },
  {
   "cell_type": "code",
   "execution_count": null,
   "metadata": {},
   "outputs": [],
   "source": [
    "TRAINING_DATA = pd.read_csv(r'399neighbors.csv', index_col=[0])"
   ]
  },
  {
   "cell_type": "code",
   "execution_count": null,
   "metadata": {},
   "outputs": [],
   "source": [
    "ACCURACY_MEASURED = []  # for the cross-validation accuracy\n",
    "VICINITY = []  # the number of adjacent wells\n",
    "grid_params = {\n",
    "    'bootstrap': [True, False],\n",
    "    'max_depth': [1, 10, 100],\n",
    "    'max_features': [1, 100, 500],\n",
    "    'min_samples_leaf': [10, 100, 1000],\n",
    "    'min_samples_split': [10, 100, 1000],\n",
    "    'n_estimators': [10, 100, 1000],\n",
    "    'criterion': ['gini', 'entropy']\n",
    "}\n",
    "\n",
    "\n",
    "for i in range(400):\n",
    "    print(f'{i} number of wells in vicinity')\n",
    "    wells_in_vicinity = i\n",
    "    flat_features = feature_list(wells_in_vicinity)\n",
    "    subset = TRAINING_DATA[flat_features]\n",
    "    le = preprocessing.LabelEncoder()\n",
    "    le_class = le.fit_transform(subset['class'])\n",
    "    subset.loc[:,'le_class'] =  le_class\n",
    "    subset.drop('class', inplace=True, axis=1)\n",
    "    X_train, X_test, y_train, y_test = train_test_split(\n",
    "        subset.drop(\"le_class\", axis=1), subset[\"le_class\"], test_size=0.2, random_state=86,\n",
    "    )\n",
    "    gs = GridSearchCV(RandomForestClassifier(), grid_params, verbose=8, cv=5, n_jobs=7)\n",
    "    gs_results = gs.fit(X_train, y_train)\n",
    "    rtclf = RandomForestClassifier(**gs.best_params_)\n",
    "\n",
    "    cved = cross_val_score(\n",
    "        rtclf,\n",
    "        #dataset.drop(\"class\", axis=1),\n",
    "        #dataset[\"class\"],\n",
    "        X_test,\n",
    "        y_test,\n",
    "        cv=5,\n",
    "        scoring=\"accuracy\",\n",
    "    )\n",
    "    ACCURACY_MEASURED.append(cved)\n",
    "    VICINITY.append(wells_in_vicinity)"
   ]
  },
  {
   "cell_type": "code",
   "execution_count": null,
   "metadata": {},
   "outputs": [],
   "source": [
    "MEAN_ACCURACY = []\n",
    "for i in enumerate(ACCURACY_MEASURED):\n",
    "    plt.plot(ACCURACY_MEASURED[i[0]], label=str(VICINITY[i[0]]) + \" Neighbors\")\n",
    "    MEAN_ACCURACY.append(ACCURACY_MEASURED[i[0]].mean().round(4))\n",
    "    plt.legend()\n",
    "plt.xlabel(\"Fold Number\")\n",
    "plt.ylabel(\"Accuracy\")"
   ]
  },
  {
   "cell_type": "code",
   "execution_count": null,
   "metadata": {},
   "outputs": [],
   "source": [
    "plt.plot(VICINITY, MEAN_ACCURACY)\n",
    "plt.xlabel(\"number of adjacent wells\")\n",
    "plt.ylabel(\"mean cross-validated accuracy\")"
   ]
  },
  {
   "cell_type": "code",
   "execution_count": null,
   "metadata": {},
   "outputs": [],
   "source": []
  }
 ],
 "metadata": {
  "kernelspec": {
   "display_name": "Python 3",
   "language": "python",
   "name": "python3"
  },
  "language_info": {
   "codemirror_mode": {
    "name": "ipython",
    "version": 3
   },
   "file_extension": ".py",
   "mimetype": "text/x-python",
   "name": "python",
   "nbconvert_exporter": "python",
   "pygments_lexer": "ipython3",
   "version": "3.8.5"
  }
 },
 "nbformat": 4,
 "nbformat_minor": 4
}
