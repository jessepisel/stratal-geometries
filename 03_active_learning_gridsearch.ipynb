{
 "cells": [
  {
   "cell_type": "code",
   "execution_count": 6,
   "metadata": {},
   "outputs": [],
   "source": [
    "import pandas as pd\n",
    "import matplotlib.pyplot as plt\n",
    "import seaborn as sns\n",
    "from sklearn.model_selection import train_test_split\n",
    "from sklearn.model_selection import cross_val_score\n",
    "from sklearn.model_selection import GridSearchCV\n",
    "from sklearn.ensemble import RandomForestClassifier\n",
    "from sklearn import preprocessing\n",
    "from sklearn.metrics import make_scorer, jaccard_score\n",
    "import pandas as pd\n",
    "import numpy as np\n",
    "import matplotlib.pyplot as plt\n",
    "import seaborn as sns\n",
    "from sklearn.model_selection import train_test_split\n",
    "from sklearn.ensemble import RandomForestClassifier\n",
    "from sklearn.metrics import jaccard_score, plot_confusion_matrix\n",
    "from sklearn.preprocessing import FunctionTransformer\n",
    "from sklearn.manifold import TSNE\n",
    "from sklearn import preprocessing\n",
    "#import ternary\n",
    "from scipy.spatial.distance import pdist, squareform\n",
    "from matplotlib.colors import LinearSegmentedColormap\n",
    "#from geopandas import GeoDataFrame\n",
    "#from shapely.geometry import Point\n",
    "#sns.set()\n",
    "#sns.set()"
   ]
  },
  {
   "cell_type": "code",
   "execution_count": 14,
   "metadata": {},
   "outputs": [],
   "source": [
    "def flatten(container):\n",
    "    \"Flattens lists\"\n",
    "    for i in container:\n",
    "        if isinstance(i, (list, tuple)):\n",
    "            for j in flatten(i):\n",
    "                yield j\n",
    "        else:\n",
    "            yield i\n",
    "\n",
    "def feature_list(no_of_neighbors):\n",
    "    \"\"\"\n",
    "    Creates a list of features given number of adjacent wells\n",
    "    param no_of_neighbors: number of adjacent wells used in feature engineering\n",
    "    \"\"\"\n",
    "    print(\"Getting the features\")\n",
    "    initial = [\"thickness\", \"thickness natural log\", \"thickness power\"]\n",
    "    features = []\n",
    "    for item in initial:\n",
    "        features.append(item)\n",
    "        for i in range(1, no_of_neighbors + 1):\n",
    "            features.append(item + \" neighbor \" + str(i))\n",
    "    features.append([\"x location\", \"y location\", \"le_class\"])\n",
    "    return list(flatten(features))\n",
    "\n",
    "def data_normalization(dataframe):\n",
    "    \"\"\"\n",
    "    Normalizes the generated stratigraphic data\n",
    "    param dataframe: a pandas dataframe of thicknesses that has been through feature engineering\n",
    "    param location: a pandas dataframe with locations \n",
    "    \"\"\"\n",
    "    print(\"normalizing\")\n",
    "    normalized_df = (dataframe - dataframe.min()) / (dataframe.max() - dataframe.min()).replace(0, 0.00001)\n",
    "    return normalized_df\n",
    "    \n",
    "\n",
    "def adjacent_wells(dataframe, no_of_neighbors):\n",
    "    \"\"\"\n",
    "    Calculates the adjacent wells and builds the initial dataframe\n",
    "    param dataframe: dataframe output from the missing function\n",
    "    param no_of_neighbors: number of adjacent wells used in feature engineering\n",
    "    \"\"\"\n",
    "    hood = squareform(pdist(dataframe.iloc[:, -2:]))\n",
    "    neighbors = []\n",
    "    for i in enumerate(hood.argsort()[0:, 1 : no_of_neighbors + 1]):\n",
    "        selected = (\n",
    "            dataframe.iloc[hood.argsort()[i[0], 1 : no_of_neighbors + 1], 0:-2]\n",
    "            .stack()\n",
    "            .to_frame()\n",
    "            .T\n",
    "        )\n",
    "        selected.columns = selected.columns.droplevel()\n",
    "        neighbors.append(selected)\n",
    "    frame = pd.concat(neighbors, sort=False)\n",
    "    frame.index = range(len(frame))\n",
    "    neighborhood = pd.concat([dataframe.iloc[:, :-2], frame], axis=1)\n",
    "    return neighborhood\n",
    "    \n",
    "def depth_to_thickness(neighborhood, dataframe):\n",
    "    \"\"\"\n",
    "    Converts the depth dataframe from the adjacent wells function to thicknesses\n",
    "    param neighborhood: dataframe output from `adjacent_wells`\n",
    "    param dataframe: dataframe output from function `missing`\n",
    "    \"\"\"\n",
    "    locations = pd.DataFrame()\n",
    "    df = pd.DataFrame()\n",
    "    thicknesses = neighborhood.diff(axis=1)*-1\n",
    "    thicknesses[thicknesses < 0] = 0\n",
    "    thicknesses.drop(columns=dataframe.columns[0], inplace=True)\n",
    "    thicknesses[thicknesses < 0] = 0\n",
    "    thicknesses[thicknesses > 3000] = 0\n",
    "    locations = pd.concat((locations, dataframe.iloc[:, -2:]))\n",
    "    df = pd.concat((df, thicknesses))\n",
    "    return df, locations\n",
    "  \n",
    "\n",
    "\n",
    "def build_feature_engineered_dataset(thickness_df, locations_df):\n",
    "    \"\"\"\n",
    "    Takes the generated thickness dataset and runs feature engineering\n",
    "    param thickness_df: the generated thickness dataset\n",
    "    param locations_df: the generated locations dataset    \n",
    "    \"\"\"\n",
    "    log_transform = FunctionTransformer(np.log, validate=False)\n",
    "    power_transform = FunctionTransformer(lambda x: x ** 10, validate=False)\n",
    "    \n",
    "    logged = pd.DataFrame(log_transform.transform(thickness_df))\n",
    "    powered = pd.DataFrame(power_transform.transform(thickness_df)) \n",
    "    feature_dataset = (\n",
    "        pd.concat([thickness_df, logged, powered, locations_df], axis=1)\n",
    "        .dropna()\n",
    "        .replace(-np.inf, 0)\n",
    "    )\n",
    "    return feature_dataset\n",
    "  "
   ]
  },
  {
   "cell_type": "code",
   "execution_count": 15,
   "metadata": {},
   "outputs": [],
   "source": [
    "TRUNCATION_COLOR = \"#ffffbf\"\n",
    "ONLAP_COLOR = \"#2c7bb6\"\n",
    "HORIZ_COLOR = \"#d7191c\"\n",
    " \n",
    "truncCmap = LinearSegmentedColormap.from_list(\"mycmap\", [\"#ffffff\", TRUNCATION_COLOR])\n",
    "onlapCmap = LinearSegmentedColormap.from_list(\"mycmap\", [\"#ffffff\", ONLAP_COLOR])\n",
    "horizCmap = LinearSegmentedColormap.from_list(\"mycmap\", [\"#ffffff\", HORIZ_COLOR])"
   ]
  },
  {
   "cell_type": "code",
   "execution_count": 16,
   "metadata": {},
   "outputs": [],
   "source": [
    "TRAINING_DATA = pd.read_csv(r'399neighbors.csv', index_col=[0])\n",
    "le = preprocessing.LabelEncoder()\n",
    "le_class = le.fit_transform(TRAINING_DATA['class'])\n",
    "TRAINING_DATA.loc[:,'le_class'] =  le_class\n",
    "TRAINING_DATA.drop('class', inplace=True, axis=1)"
   ]
  },
  {
   "cell_type": "code",
   "execution_count": 98,
   "metadata": {},
   "outputs": [],
   "source": [
    "# Dataset at https://osf.io/a6cwh/\n",
    "TOPS_API = pd.read_csv(\n",
    "    r\"subsurface_data.csv\"\n",
    ").fillna(\n",
    "    0\n",
    ")  \n",
    "ITERABLE = [\"Kfh\", \"Kl\", \"Tfu\"]\n",
    "TOPCOMBOS = list(zip(ITERABLE, ITERABLE[1:]))"
   ]
  },
  {
   "cell_type": "code",
   "execution_count": 213,
   "metadata": {},
   "outputs": [],
   "source": [
    "ACCURACY_MEASURED = []  # for the cross-validation accuracy\n",
    "VICINITY = []  # the number of adjacent wells\n",
    "UNCERTAINTY = [] # value of 2 is lowest, value of ~1 is random\n",
    "TIME = []\n",
    "FULL_ACTIVE_UNC = []\n",
    "grid_params = {\n",
    "    'bootstrap': [True, False],\n",
    "    'max_depth': [1, 10, 100],\n",
    "    'min_samples_leaf': [10, 100, 1000],\n",
    "    'min_samples_split': [10, 100, 1000],\n",
    "    'n_estimators': [10, 100, 1000],\n",
    "    'criterion': ['gini', 'entropy']\n",
    "}\n",
    "VICINITY_TO_CHECK = [\n",
    "    #0,1,2,3,4,5,6,7,8,9,10,11,12,13,14,15,16,17,18,19,20,21,22,23,24,25,\n",
    "    25, 50, 75, 100, 150, 200, 250, 300, 350, 399\n",
    "]\n",
    "scoring = make_scorer(jaccard_score, average='weighted')"
   ]
  },
  {
   "cell_type": "code",
   "execution_count": null,
   "metadata": {},
   "outputs": [
    {
     "name": "stdout",
     "output_type": "stream",
     "text": [
      "25 number of wells in vicinity\n",
      "Getting the features\n",
      "Fitting 5 folds for each of 324 candidates, totalling 1620 fits\n"
     ]
    },
    {
     "name": "stderr",
     "output_type": "stream",
     "text": [
      "[Parallel(n_jobs=7)]: Using backend LokyBackend with 7 concurrent workers.\n",
      "[Parallel(n_jobs=7)]: Done  45 tasks      | elapsed:  1.0min\n",
      "[Parallel(n_jobs=7)]: Done 220 tasks      | elapsed: 11.4min\n",
      "[Parallel(n_jobs=7)]: Done 511 tasks      | elapsed: 30.2min\n",
      "[Parallel(n_jobs=7)]: Done 920 tasks      | elapsed: 83.1min\n",
      "[Parallel(n_jobs=7)]: Done 1444 tasks      | elapsed: 158.7min\n",
      "[Parallel(n_jobs=7)]: Done 1620 out of 1620 | elapsed: 211.5min finished\n"
     ]
    },
    {
     "name": "stdout",
     "output_type": "stream",
     "text": [
      "('Kfh', 'Kl')\n"
     ]
    },
    {
     "name": "stderr",
     "output_type": "stream",
     "text": [
      "/home/thedude/anaconda3/lib/python3.6/site-packages/sklearn/preprocessing/_function_transformer.py:171: RuntimeWarning: divide by zero encountered in log\n",
      "  return func(X, **(kw_args if kw_args else {}))\n"
     ]
    },
    {
     "name": "stdout",
     "output_type": "stream",
     "text": [
      "normalizing\n",
      "('Kl', 'Tfu')\n"
     ]
    },
    {
     "name": "stderr",
     "output_type": "stream",
     "text": [
      "/home/thedude/anaconda3/lib/python3.6/site-packages/sklearn/preprocessing/_function_transformer.py:171: RuntimeWarning: divide by zero encountered in log\n",
      "  return func(X, **(kw_args if kw_args else {}))\n"
     ]
    },
    {
     "name": "stdout",
     "output_type": "stream",
     "text": [
      "normalizing\n",
      "50 number of wells in vicinity\n",
      "Getting the features\n",
      "Fitting 5 folds for each of 324 candidates, totalling 1620 fits\n"
     ]
    },
    {
     "name": "stderr",
     "output_type": "stream",
     "text": [
      "[Parallel(n_jobs=7)]: Using backend LokyBackend with 7 concurrent workers.\n",
      "[Parallel(n_jobs=7)]: Done  45 tasks      | elapsed:  1.1min\n",
      "[Parallel(n_jobs=7)]: Done 220 tasks      | elapsed: 15.8min\n",
      "[Parallel(n_jobs=7)]: Done 511 tasks      | elapsed: 42.8min\n",
      "[Parallel(n_jobs=7)]: Done 920 tasks      | elapsed: 121.1min\n",
      "[Parallel(n_jobs=7)]: Done 1444 tasks      | elapsed: 231.8min\n",
      "[Parallel(n_jobs=7)]: Done 1620 out of 1620 | elapsed: 310.8min finished\n"
     ]
    },
    {
     "name": "stdout",
     "output_type": "stream",
     "text": [
      "('Kfh', 'Kl')\n"
     ]
    },
    {
     "name": "stderr",
     "output_type": "stream",
     "text": [
      "/home/thedude/anaconda3/lib/python3.6/site-packages/sklearn/preprocessing/_function_transformer.py:171: RuntimeWarning: divide by zero encountered in log\n",
      "  return func(X, **(kw_args if kw_args else {}))\n"
     ]
    },
    {
     "name": "stdout",
     "output_type": "stream",
     "text": [
      "normalizing\n",
      "('Kl', 'Tfu')\n"
     ]
    },
    {
     "name": "stderr",
     "output_type": "stream",
     "text": [
      "/home/thedude/anaconda3/lib/python3.6/site-packages/sklearn/preprocessing/_function_transformer.py:171: RuntimeWarning: divide by zero encountered in log\n",
      "  return func(X, **(kw_args if kw_args else {}))\n"
     ]
    },
    {
     "name": "stdout",
     "output_type": "stream",
     "text": [
      "normalizing\n",
      "75 number of wells in vicinity\n",
      "Getting the features\n",
      "Fitting 5 folds for each of 324 candidates, totalling 1620 fits\n"
     ]
    },
    {
     "name": "stderr",
     "output_type": "stream",
     "text": [
      "[Parallel(n_jobs=7)]: Using backend LokyBackend with 7 concurrent workers.\n",
      "[Parallel(n_jobs=7)]: Done  45 tasks      | elapsed:  1.3min\n",
      "[Parallel(n_jobs=7)]: Done 220 tasks      | elapsed: 19.0min\n",
      "[Parallel(n_jobs=7)]: Done 511 tasks      | elapsed: 52.4min\n",
      "[Parallel(n_jobs=7)]: Done 920 tasks      | elapsed: 148.9min\n",
      "[Parallel(n_jobs=7)]: Done 1444 tasks      | elapsed: 285.8min\n",
      "[Parallel(n_jobs=7)]: Done 1620 out of 1620 | elapsed: 385.3min finished\n"
     ]
    },
    {
     "name": "stdout",
     "output_type": "stream",
     "text": [
      "('Kfh', 'Kl')\n"
     ]
    },
    {
     "name": "stderr",
     "output_type": "stream",
     "text": [
      "/home/thedude/anaconda3/lib/python3.6/site-packages/sklearn/preprocessing/_function_transformer.py:171: RuntimeWarning: divide by zero encountered in log\n",
      "  return func(X, **(kw_args if kw_args else {}))\n"
     ]
    },
    {
     "name": "stdout",
     "output_type": "stream",
     "text": [
      "normalizing\n",
      "('Kl', 'Tfu')\n"
     ]
    },
    {
     "name": "stderr",
     "output_type": "stream",
     "text": [
      "/home/thedude/anaconda3/lib/python3.6/site-packages/sklearn/preprocessing/_function_transformer.py:171: RuntimeWarning: divide by zero encountered in log\n",
      "  return func(X, **(kw_args if kw_args else {}))\n"
     ]
    },
    {
     "name": "stdout",
     "output_type": "stream",
     "text": [
      "normalizing\n",
      "100 number of wells in vicinity\n",
      "Getting the features\n",
      "Fitting 5 folds for each of 324 candidates, totalling 1620 fits\n"
     ]
    },
    {
     "name": "stderr",
     "output_type": "stream",
     "text": [
      "[Parallel(n_jobs=7)]: Using backend LokyBackend with 7 concurrent workers.\n",
      "[Parallel(n_jobs=7)]: Done  45 tasks      | elapsed:  1.5min\n",
      "[Parallel(n_jobs=7)]: Done 220 tasks      | elapsed: 21.5min\n",
      "[Parallel(n_jobs=7)]: Done 511 tasks      | elapsed: 59.2min\n",
      "[Parallel(n_jobs=7)]: Done 920 tasks      | elapsed: 168.0min\n",
      "[Parallel(n_jobs=7)]: Done 1444 tasks      | elapsed: 321.4min\n",
      "[Parallel(n_jobs=7)]: Done 1620 out of 1620 | elapsed: 433.5min finished\n"
     ]
    },
    {
     "name": "stdout",
     "output_type": "stream",
     "text": [
      "('Kfh', 'Kl')\n"
     ]
    },
    {
     "name": "stderr",
     "output_type": "stream",
     "text": [
      "/home/thedude/anaconda3/lib/python3.6/site-packages/sklearn/preprocessing/_function_transformer.py:171: RuntimeWarning: divide by zero encountered in log\n",
      "  return func(X, **(kw_args if kw_args else {}))\n"
     ]
    },
    {
     "name": "stdout",
     "output_type": "stream",
     "text": [
      "normalizing\n",
      "('Kl', 'Tfu')\n"
     ]
    },
    {
     "name": "stderr",
     "output_type": "stream",
     "text": [
      "/home/thedude/anaconda3/lib/python3.6/site-packages/sklearn/preprocessing/_function_transformer.py:171: RuntimeWarning: divide by zero encountered in log\n",
      "  return func(X, **(kw_args if kw_args else {}))\n"
     ]
    },
    {
     "name": "stdout",
     "output_type": "stream",
     "text": [
      "normalizing\n",
      "150 number of wells in vicinity\n",
      "Getting the features\n",
      "Fitting 5 folds for each of 324 candidates, totalling 1620 fits\n"
     ]
    },
    {
     "name": "stderr",
     "output_type": "stream",
     "text": [
      "[Parallel(n_jobs=7)]: Using backend LokyBackend with 7 concurrent workers.\n",
      "[Parallel(n_jobs=7)]: Done  45 tasks      | elapsed:  1.6min\n",
      "[Parallel(n_jobs=7)]: Done 220 tasks      | elapsed: 26.1min\n",
      "[Parallel(n_jobs=7)]: Done 511 tasks      | elapsed: 71.1min\n",
      "[Parallel(n_jobs=7)]: Done 920 tasks      | elapsed: 202.0min\n",
      "[Parallel(n_jobs=7)]: Done 1444 tasks      | elapsed: 388.7min\n",
      "[Parallel(n_jobs=7)]: Done 1620 out of 1620 | elapsed: 526.2min finished\n"
     ]
    },
    {
     "name": "stdout",
     "output_type": "stream",
     "text": [
      "('Kfh', 'Kl')\n"
     ]
    },
    {
     "name": "stderr",
     "output_type": "stream",
     "text": [
      "/home/thedude/anaconda3/lib/python3.6/site-packages/sklearn/preprocessing/_function_transformer.py:171: RuntimeWarning: divide by zero encountered in log\n",
      "  return func(X, **(kw_args if kw_args else {}))\n"
     ]
    },
    {
     "name": "stdout",
     "output_type": "stream",
     "text": [
      "normalizing\n",
      "('Kl', 'Tfu')\n"
     ]
    },
    {
     "name": "stderr",
     "output_type": "stream",
     "text": [
      "/home/thedude/anaconda3/lib/python3.6/site-packages/sklearn/preprocessing/_function_transformer.py:171: RuntimeWarning: divide by zero encountered in log\n",
      "  return func(X, **(kw_args if kw_args else {}))\n"
     ]
    },
    {
     "name": "stdout",
     "output_type": "stream",
     "text": [
      "normalizing\n",
      "200 number of wells in vicinity\n",
      "Getting the features\n",
      "Fitting 5 folds for each of 324 candidates, totalling 1620 fits\n"
     ]
    },
    {
     "name": "stderr",
     "output_type": "stream",
     "text": [
      "[Parallel(n_jobs=7)]: Using backend LokyBackend with 7 concurrent workers.\n",
      "[Parallel(n_jobs=7)]: Done  45 tasks      | elapsed:  1.9min\n",
      "[Parallel(n_jobs=7)]: Done 220 tasks      | elapsed: 29.0min\n",
      "[Parallel(n_jobs=7)]: Done 511 tasks      | elapsed: 79.1min\n",
      "[Parallel(n_jobs=7)]: Done 920 tasks      | elapsed: 223.5min\n"
     ]
    }
   ],
   "source": [
    "for i in VICINITY_TO_CHECK:\n",
    "    print(f'{i} number of wells in vicinity')\n",
    "    wells_in_vicinity = i\n",
    "    flat_features = feature_list(wells_in_vicinity)\n",
    "    subset = TRAINING_DATA[flat_features]\n",
    "    X_train, X_test, y_train, y_test = train_test_split(\n",
    "        subset.drop(\"le_class\", axis=1), subset[\"le_class\"], test_size=0.2, \n",
    "        random_state=86,\n",
    "    )\n",
    "    gs = GridSearchCV(RandomForestClassifier(), grid_params, verbose=0.2, \n",
    "                      cv=5, n_jobs=7,scoring=scoring)\n",
    "    gs_results = gs.fit(X_train, y_train)\n",
    "    rtclf = RandomForestClassifier(**gs.best_params_)\n",
    "    rtclf.fit(X_train, y_train)\n",
    "    score = jaccard_score(y_test, rtclf.predict(X_test), average='weighted')\n",
    "    preds = rtclf.predict_proba(X_test)\n",
    "    dists = []\n",
    "    for k in enumerate(preds):\n",
    "        dists.append(sorted(k[1])[-1]-sorted(k[1])[-2])\n",
    "    UNCERTAINTY.append(np.mean(dists))\n",
    "    ACCURACY_MEASURED.append(score)\n",
    "    VICINITY.append(wells_in_vicinity)\n",
    "    TIME.append(gs.refit_time_)\n",
    "    ACTIVE_UNC = []\n",
    "    RESULTS = []\n",
    "    NORM_ALL = []\n",
    "    PROBS_ALL = []\n",
    "    FULL_PROBS = []\n",
    "    # now for active learning\n",
    "    for j in enumerate(TOPCOMBOS):\n",
    "        print(TOPCOMBOS[j[0]])\n",
    "        fmtops = list(TOPCOMBOS[j[0]])\n",
    "        fmtops.extend([\"x\", \"y\"])\n",
    "        tops = TOPS_API[fmtops]\n",
    "        hoods = adjacent_wells(tops, wells_in_vicinity)\n",
    "        thicknesses, locations = depth_to_thickness(hoods, tops)\n",
    "        ft_eng = build_feature_engineered_dataset(thicknesses, locations)\n",
    "        normalized = data_normalization(ft_eng)\n",
    "        normalized.columns = flat_features[:-1]\n",
    "        \n",
    "        well_prob = rtclf.predict_proba(normalized.sample(frac=0.05,random_state=i*2).values)\n",
    "        FULL_PROBS.append(well_prob)\n",
    "        probs = []\n",
    "        for l in range(len(well_prob)):\n",
    "            probs.append(well_prob[l].max())\n",
    "        dists = []\n",
    "        for m in enumerate(well_prob):\n",
    "            dists.append(sorted(m[1])[-1]-sorted(m[1])[-2])\n",
    "        ACTIVE_UNC.append(np.mean(dists))\n",
    "        PROBS_ALL.append(probs)\n",
    "        NORM_ALL.append(normalized)\n",
    "    FULL_ACTIVE_UNC.append(ACTIVE_UNC)\n"
   ]
  },
  {
   "cell_type": "code",
   "execution_count": 206,
   "metadata": {},
   "outputs": [
    {
     "data": {
      "text/plain": [
       "<matplotlib.legend.Legend at 0x7f2bbb828320>"
      ]
     },
     "execution_count": 206,
     "metadata": {},
     "output_type": "execute_result"
    },
    {
     "data": {
      "image/png": "[encoded data removed]",
      "text/plain": [
       "<Figure size 432x288 with 1 Axes>"
      ]
     },
     "metadata": {},
     "output_type": "display_data"
    }
   ],
   "source": [
    "plt.plot(VICINITY, ACCURACY_MEASURED, label='Accuracy')\n",
    "plt.plot(VICINITY, UNCERTAINTY, label='Training Confidence' )\n",
    "plt.plot(VICINITY,np.array(FULL_ACTIVE_UNC)[:,0], label='KLa Confidence' )\n",
    "plt.plot(VICINITY, np.array(FULL_ACTIVE_UNC)[:,1], label='TFU Confidence' )\n",
    "plt.plot(VICINITY, np.mean(FULL_ACTIVE_UNC, axis=1), label='Mean Confidence')\n",
    "plt.legend()"
   ]
  },
  {
   "cell_type": "code",
   "execution_count": 209,
   "metadata": {},
   "outputs": [
    {
     "data": {
      "text/plain": [
       "[0.8044564654145497,\n",
       " 0.8446204636908732,\n",
       " 0.8858748000641838,\n",
       " 0.9013172995871331,\n",
       " 0.9252605947855298,\n",
       " 0.9227407973553855,\n",
       " 0.9214134192196591,\n",
       " 0.9353630148424044,\n",
       " 0.9369724254518846,\n",
       " 0.9301278432889878,\n",
       " 0.932708649760228,\n",
       " 0.9371889033690519,\n",
       " 0.9397759940130866,\n",
       " 0.939147673602454,\n",
       " 0.9430829010645561,\n",
       " 0.9473344496524662,\n",
       " 0.9479799367295766,\n",
       " 0.944373478215261,\n",
       " 0.9440714274371722,\n",
       " 0.9414353995947474,\n",
       " 0.9447432060041452,\n",
       " 0.9415114741457378,\n",
       " 0.9434041271000553,\n",
       " 0.9437344744623425,\n",
       " 0.9443841956902258,\n",
       " 0.9411356350110636]"
      ]
     },
     "execution_count": 209,
     "metadata": {},
     "output_type": "execute_result"
    }
   ],
   "source": [
    "# zero to 25 wells in vicinity accuracy\n",
    "zero_to_tf_acc = [0.8044564654145497,\n",
    " 0.8446204636908732,\n",
    " 0.8858748000641838,\n",
    " 0.9013172995871331,\n",
    " 0.9252605947855298,\n",
    " 0.9227407973553855,\n",
    " 0.9214134192196591,\n",
    " 0.9353630148424044,\n",
    " 0.9369724254518846,\n",
    " 0.9301278432889878,\n",
    " 0.932708649760228,\n",
    " 0.9371889033690519,\n",
    " 0.9397759940130866,\n",
    " 0.939147673602454,\n",
    " 0.9430829010645561,\n",
    " 0.9473344496524662,\n",
    " 0.9479799367295766,\n",
    " 0.944373478215261,\n",
    " 0.9440714274371722,\n",
    " 0.9414353995947474,\n",
    " 0.9447432060041452,\n",
    " 0.9415114741457378,\n",
    " 0.9434041271000553,\n",
    " 0.9437344744623425,\n",
    " 0.9443841956902258,\n",
    " 0.9411356350110636]\n",
    "# zero to 25 wells in vicinity certainty on training data\n",
    "zero_to_tf_tr_cer = [0.7052792205356949,\n",
    " 0.7076948182288822,\n",
    " 0.7289418025057284,\n",
    " 0.7186863705072882,\n",
    " 0.7233797055301987,\n",
    " 0.7062390455747898,\n",
    " 0.6933931308374747,\n",
    " 0.6997015718215593,\n",
    " 0.6884355028572393,\n",
    " 0.681654655736853,\n",
    " 0.6713507516944909,\n",
    " 0.6802337230970278,\n",
    " 0.6736493004151825,\n",
    " 0.6674828043120707,\n",
    " 0.6625155716654667,\n",
    " 0.6702435456921081,\n",
    " 0.6688447039311686,\n",
    " 0.665505918504963,\n",
    " 0.6626626291572012,\n",
    " 0.6596240253616265,\n",
    " 0.6649871803289962,\n",
    " 0.6615760787817095,\n",
    " 0.658088083640591,\n",
    " 0.6547246539453763,\n",
    " 0.6526533140764124,\n",
    " 0.6503294208385181]\n",
    "\n",
    "# active learning uncertainty on KLA 0-25 wells\n",
    "zero_to_tf_klaunc = [0.52613688, 0.47132631, 0.62431832, 0.50890259, 0.62252049,\n",
    "       0.50597947, 0.5427992 , 0.58978603, 0.55696137, 0.45144707,\n",
    "       0.53810717, 0.4810645 , 0.43818765, 0.49823565, 0.48334829,\n",
    "       0.36812223, 0.41499831, 0.46680118, 0.45490553, 0.49461286,\n",
    "       0.41982045, 0.47335672, 0.46747626, 0.53699008, 0.45390448,\n",
    "       0.51610573]\n",
    "# active learning uncertainty on TFU 0-25 wells\n",
    "zero_to_tf_tfuunc = [0.66736471, 0.64281457, 0.68650417, 0.64283919, 0.61289806,\n",
    "       0.62919821, 0.73386643, 0.50819931, 0.65391936, 0.54803448,\n",
    "       0.62025251, 0.56277246, 0.51307113, 0.54951936, 0.6095089 ,\n",
    "       0.5447441 , 0.55258844, 0.55937769, 0.52708937, 0.40633817,\n",
    "       0.51200136, 0.58178296, 0.4399349 , 0.49896221, 0.45575467,\n",
    "       0.40379828]"
   ]
  },
  {
   "cell_type": "code",
   "execution_count": 208,
   "metadata": {},
   "outputs": [
    {
     "data": {
      "text/plain": [
       "array([0.59675079, 0.55707044, 0.65541125, 0.57587089, 0.61770927,\n",
       "       0.56758884, 0.63833281, 0.54899267, 0.60544037, 0.49974077,\n",
       "       0.57917984, 0.52191848, 0.47562939, 0.52387751, 0.5464286 ,\n",
       "       0.45643316, 0.48379337, 0.51308943, 0.49099745, 0.45047552,\n",
       "       0.4659109 , 0.52756984, 0.45370558, 0.51797614, 0.45482957,\n",
       "       0.459952  ])"
      ]
     },
     "execution_count": 208,
     "metadata": {},
     "output_type": "execute_result"
    }
   ],
   "source": [
    "np.median(FULL_ACTIVE_UNC, axis=1)"
   ]
  },
  {
   "cell_type": "code",
   "execution_count": null,
   "metadata": {},
   "outputs": [],
   "source": []
  }
 ],
 "metadata": {
  "kernelspec": {
   "display_name": "Python 3",
   "language": "python",
   "name": "python3"
  },
  "language_info": {
   "codemirror_mode": {
    "name": "ipython",
    "version": 3
   },
   "file_extension": ".py",
   "mimetype": "text/x-python",
   "name": "python",
   "nbconvert_exporter": "python",
   "pygments_lexer": "ipython3",
   "version": "3.6.6"
  }
 },
 "nbformat": 4,
 "nbformat_minor": 2
}
