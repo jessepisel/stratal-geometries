{
 "cells": [
  {
   "cell_type": "markdown",
   "metadata": {
    "slideshow": {
     "slide_type": "slide"
    }
   },
   "source": [
    "<p align=\"right\">\n",
    "    <img src=\"Capture.png\" width=\"1100\" height=\"1200\" />\n",
    "\n",
    "</p>\n"
   ]
  },
  {
   "cell_type": "markdown",
   "metadata": {
    "slideshow": {
     "slide_type": "slide"
    }
   },
   "source": [
    "# Classifying basin‐scale stratigraphic geometries from subsurface formation tops with machine learning\n",
    "### Jesse R. Pisel and Michael J. Pyrcz\n",
    "#### Texas Institute for Discovery Education in Science, College of Natural Sciences, Cockrell School of Engineering, Jackson School of Geosciences\n",
    "#### The University of Texas at Austin\n",
    "**[Twitter](http://twitter.com/geologyjesse)** | **[GitHub](https://github.com/jessepisel)** | **[GoogleScholar](https://scholar.google.com/citations?user=Z4JzYgIAAAAJ&hl=en&oi=ao)** | **[LinkedIn](https://www.linkedin.com/in/jesse-pisel-70519430/)**\n",
    "\n"
   ]
  },
  {
   "cell_type": "markdown",
   "metadata": {
    "slideshow": {
     "slide_type": "subslide"
    }
   },
   "source": [
    "<tr>\n",
    "  <td valign=\"top\"><img src=\"https://github.com/GeostatsGuy/GeostatsPy/blob/master/TCG_color_logo.png?raw=true\" width=\"225\"></td> \n",
    "  <td valign=\"top\"><img src=\"https://github.com/jessepisel/energy_analytics/blob/master/EA_logo.jpg?raw=true\" width=\"250\"></td>\n",
    "  \n",
    "<td valign=\"top\"><img src=\"https://upload.wikimedia.org/wikipedia/commons/thumb/0/0c/ConocoPhillips_Logo.svg/1200px-ConocoPhillips_Logo.svg.png\" width=\"450\"></td>\n",
    "\n",
    "</tr>\n"
   ]
  },
  {
   "cell_type": "markdown",
   "metadata": {
    "slideshow": {
     "slide_type": "subslide"
    }
   },
   "source": [
    "## Executive Summary\n",
    "**Problem**: Structure and thickness maps contoured from points are **non-unique** for onlap and truncation geometries\n",
    "\n",
    "**Our Approach**: Teach a classifier to predict geometries for a _synthetic_ model, then transfer to \"real world\" data\n",
    "\n",
    "**What We Learned**: Transfer learning works pretty well for this type of task\n",
    "\n",
    "**Recommendations**: Useful for guided interpretation, and should be tried at different stratigraphic scales\n",
    "\n",
    "If you think this is great read our 100% open-access paper:\n",
    "\n",
    "https://onlinelibrary.wiley.com/doi/abs/10.1002/dep2.129 \n",
    "\n",
    "And all the code is open-source:\n",
    "\n",
    "https://github.com/jessepisel/stratal-geometries"
   ]
  },
  {
   "cell_type": "markdown",
   "metadata": {
    "slideshow": {
     "slide_type": "slide"
    }
   },
   "source": [
    "## First the problem:\n",
    "\n",
    "Let's walk through the conceptual idea behind the problem.\n",
    "\n",
    "It's really tough to interpret if a formation is thinning because of truncation or thinning because of onlap. \n",
    "\n",
    "Think of it as the formation is thinning either at the top (truncation) or thinning on the bottom (onlap)\n",
    "\n",
    "Let's see how everyone does with an example:"
   ]
  },
  {
   "cell_type": "markdown",
   "metadata": {
    "slideshow": {
     "slide_type": "subslide"
    }
   },
   "source": [
    "## Onlap or Truncation\n",
    "<p align=\"right\">\n",
    "    <img src=\"a.jpg\" width=\"400\" height=\"400\" />\n",
    "\n",
    "</p>"
   ]
  },
  {
   "cell_type": "markdown",
   "metadata": {
    "slideshow": {
     "slide_type": "subslide"
    }
   },
   "source": [
    "## Onlap or Truncation\n",
    "<p align=\"right\">\n",
    "    <img src=\"b.jpg\" width=\"400\" height=\"400\" />\n",
    "\n",
    "</p>"
   ]
  },
  {
   "cell_type": "markdown",
   "metadata": {
    "slideshow": {
     "slide_type": "subslide"
    }
   },
   "source": [
    "## How about cross sections?\n",
    "<p align=\"right\">\n",
    "    <img src=\"axs.jpg\" width=\"600\" height=\"600\" />\n",
    "\n",
    "</p>\n",
    "\n",
    "<p align=\"right\">\n",
    "    <img src=\"bxs.jpg\" width=\"600\" height=\"600\" />\n",
    "\n",
    "</p>\n",
    "\n",
    "4 wells in each section with no V.E."
   ]
  },
  {
   "cell_type": "markdown",
   "metadata": {
    "slideshow": {
     "slide_type": "subslide"
    }
   },
   "source": [
    "## How about another set of cross sections?\n",
    "<p align=\"right\">\n",
    "    <img src=\"axsfull.jpg\" width=\"600\" height=\"600\" />\n",
    "\n",
    "</p>\n",
    "\n",
    "<p align=\"right\">\n",
    "    <img src=\"bxsful.jpg\" width=\"600\" height=\"600\" />\n",
    "\n",
    "</p>"
   ]
  },
  {
   "cell_type": "markdown",
   "metadata": {
    "slideshow": {
     "slide_type": "subslide"
    }
   },
   "source": [
    "* 100 wells with 2x V.E.\n",
    "* What made it easier for you with the second cross section? More data, vertical exaggeration, and comparing each vertical 1D profile to what is on either side of it?"
   ]
  },
  {
   "cell_type": "markdown",
   "metadata": {
    "slideshow": {
     "slide_type": "slide"
    }
   },
   "source": [
    "## Our Approach:\n",
    "\n",
    "* Can we use machine learning for this problem?\n",
    "* It is a binary classification problem\n",
    "* Need to include horizontal stratification\n",
    "* How to build a training dataset when we don't know the classes downhole?"
   ]
  },
  {
   "cell_type": "markdown",
   "metadata": {
    "slideshow": {
     "slide_type": "subslide"
    }
   },
   "source": [
    "### How we did it\n",
    "1. Build conceptual model of the subsurface for three classes\n",
    "    * Truncation\n",
    "    * Onlap\n",
    "    * Horizontal stratification\n",
    "2. Train machine learning classifer on _perfect_ models, measure uncertainty\n",
    "3. Transfer classifier to real world dataset and compare to **ground truth** field geology\n",
    "\n",
    "Let's start with training data"
   ]
  },
  {
   "cell_type": "markdown",
   "metadata": {
    "slideshow": {
     "slide_type": "slide"
    }
   },
   "source": [
    "## Data Generation:\n",
    "\n",
    "How to build conceptual models?\n",
    "\n",
    "1. Use open source tools!\n",
    "    * You can use any tools you have at your disposal\n",
    "    * We chose open source because it's fast and easy\n",
    "    * Bonus is we get to share it with everyone\n"
   ]
  },
  {
   "cell_type": "markdown",
   "metadata": {
    "slideshow": {
     "slide_type": "subslide"
    }
   },
   "source": [
    "<tr>\n",
    "  <td valign=\"top\"><img src=\"https://cepa.io/wp-content/uploads/2018/02/numpy-logo.png\" width=\"200\" /></td> \n",
    "  <td valign=\"top\"><img src=\"https://numfocus.org/wp-content/uploads/2016/07/pandas-logo-300.png\" width=\"200\" /></td>\n",
    "  <td valign=\"top\"><img src=\"https://www.fatiando.org/verde/latest/_static/verde-logo.png\" width=\"200\" /></td>\n",
    "  <td valign=\"top\"><img src=\"https://matplotlib.org/_static/logo2_compressed.svg\" width=\"200\" /></td>\n",
    "  <td valign=\"top\"><img src=\"https://upload.wikimedia.org/wikipedia/commons/thumb/0/05/Scikit_learn_logo_small.svg/1200px-Scikit_learn_logo_small.svg.png\" width=\"200\" /></td>\n",
    "  <td valign=\"top\"><img src=\"https://www.fullstackpython.com/img/logos/scipy.png\" width=\"200\" /></td>\n",
    "\n",
    "</tr>\n"
   ]
  },
  {
   "cell_type": "markdown",
   "metadata": {
    "slideshow": {
     "slide_type": "subslide"
    }
   },
   "source": [
    "#### More specifically:\n",
    "1. Create geometries using sine waves (varying wavelength and amplitude)\n",
    "2. Erode the geometries on each pass\n",
    "3. Rotate the geometries\n",
    "\n",
    "Let's run some code and see what the conceptual model looks like\n"
   ]
  },
  {
   "cell_type": "code",
   "execution_count": 1,
   "metadata": {
    "slideshow": {
     "slide_type": "subslide"
    }
   },
   "outputs": [],
   "source": [
    "from scipy.spatial.distance import pdist, squareform\n",
    "from sklearn.preprocessing import FunctionTransformer\n",
    "import pandas as pd\n",
    "import numpy as np\n",
    "import matplotlib.pyplot as plt\n",
    "import verde as vd\n",
    "import warnings\n",
    "warnings.filterwarnings(\"ignore\", category=DeprecationWarning)"
   ]
  },
  {
   "cell_type": "markdown",
   "metadata": {
    "slideshow": {
     "slide_type": "subslide"
    }
   },
   "source": [
    "## First define some global variables"
   ]
  },
  {
   "cell_type": "code",
   "execution_count": 2,
   "metadata": {
    "slideshow": {
     "slide_type": "subslide"
    }
   },
   "outputs": [],
   "source": [
    "# this creates dummy NAMES for the formations\n",
    "NAMES = [\n",
    "    \"one\",\n",
    "    \"two\",\n",
    "]  \n",
    "# this is the number of tops you want in your training data\n",
    "NUMBER_OF_LAYERS = 2  \n",
    "# minimum value for top depths\n",
    "SMALLEST = -6\n",
    "# maximum value for top depths\n",
    "LARGEST = 12\n",
    "# number of steps between top depths\n",
    "STEP = 2\n"
   ]
  },
  {
   "cell_type": "markdown",
   "metadata": {
    "slideshow": {
     "slide_type": "subslide"
    }
   },
   "source": [
    "### Next some functions that build our earth models"
   ]
  },
  {
   "cell_type": "code",
   "execution_count": 3,
   "metadata": {
    "slideshow": {
     "slide_type": "subslide"
    }
   },
   "outputs": [],
   "source": [
    "def truncation(smallest, largest, step, names, number_of_layers, j):\n",
    "    \"\"\"\n",
    "    Creates truncated stratal geometries using a min, max, step, names and numbers of layers\n",
    "    param smallest: the smallest integer value for stratigraphy\n",
    "    param largest: the largest integer value for stratigraphy\n",
    "    param step: the size of the step from smallest to largest\n",
    "    param names: names of the layers as strings in a list\n",
    "    param number_of_layers: number of layers to evaluate\n",
    "    param j: float value that controls the wavelength of the sine curve\n",
    "    \"\"\"\n",
    "    rolling = pd.DataFrame()\n",
    "    j = np.round(j, decimals=3) + 0.5\n",
    "    elevation_random = sorted(\n",
    "        np.random.uniform(smallest, largest, number_of_layers - 1)\n",
    "    )\n",
    "    for i in range(len(names[0 : number_of_layers - 1])):\n",
    "\n",
    "        basement = (\n",
    "            0.001\n",
    "            + (10) * np.sin(1 - np.arange(0, 40, 0.1) / (j * 2) + 0.001)\n",
    "            + np.random.rand(400) / 5\n",
    "        )\n",
    "        elevation = (\n",
    "            np.full(\n",
    "                400,\n",
    "                basement.max()\n",
    "                + np.random.uniform(basement.min() / 2, basement.max() / 64, 1),\n",
    "            )\n",
    "            + np.random.rand(400) / 5\n",
    "        )\n",
    "        topbasement = np.where(basement > elevation, elevation, basement)\n",
    "\n",
    "        rolling[\"zero\"] = topbasement\n",
    "        layer_elevation = (\n",
    "            0.001\n",
    "            + (10) * np.sin(1 - np.arange(0, 40, 0.1) / (j * 2) + 0.001)\n",
    "            + abs(elevation_random[i])\n",
    "            + np.random.rand(400) / 5\n",
    "        )\n",
    "        layer_elevation = np.where(\n",
    "            layer_elevation < basement, basement, layer_elevation\n",
    "        )\n",
    "        layer_elevation = np.where(\n",
    "            layer_elevation > elevation, elevation, layer_elevation\n",
    "        )\n",
    "        rolling[names[i]] = layer_elevation\n",
    "    return rolling"
   ]
  },
  {
   "cell_type": "code",
   "execution_count": 4,
   "metadata": {
    "slideshow": {
     "slide_type": "subslide"
    }
   },
   "outputs": [],
   "source": [
    "def onlap(smallest, largest, step, names, number_of_layers, j):\n",
    "    \"\"\"\n",
    "    Creates onlap stratal geometries using a min, max, step, names and numbers of layers\n",
    "    param smallest: the smallest integer value for stratigraphy\n",
    "    param largest: the largest integer value for stratigraphy\n",
    "    param step: the size of the step from smallest to largest\n",
    "    param names: names of the layers as strings in a list\n",
    "    param number_of_layers: number of layers to evaluate\n",
    "    param j: float value that controls the wavelength of the sine curve\n",
    "    \"\"\"\n",
    "    rolling = pd.DataFrame()\n",
    "    j = np.round(j, decimals=3) + 0.5\n",
    "    elevation_random = sorted(\n",
    "        np.random.uniform(smallest, largest, number_of_layers - 1)\n",
    "    )\n",
    "    for i in range(len(names[0 : number_of_layers - 1])):\n",
    "        basement = (\n",
    "            0.001\n",
    "            + (10) * np.sin(1 - np.arange(0, 40, 0.1) / (j * 2) + 0.001)\n",
    "            + np.random.rand(400) / 5\n",
    "        )\n",
    "        elevation = (\n",
    "            np.full(\n",
    "                400,\n",
    "                basement.max()\n",
    "                + np.random.uniform(basement.min() / 2, basement.max() / 64, 1),\n",
    "            )\n",
    "            + np.random.rand(400) / 5\n",
    "        )\n",
    "        topbasement = np.where(basement > elevation, elevation, basement)\n",
    "        rolling[\"zero\"] = topbasement\n",
    "        strat_elevation = (\n",
    "            np.full(400, elevation_random[i]) + np.random.rand(400) / 5\n",
    "        )\n",
    "        onlap = np.where(strat_elevation > basement, strat_elevation, basement)\n",
    "        layer_elevation = np.where(onlap > elevation, elevation, onlap)\n",
    "        rolling[names[i]] = layer_elevation\n",
    "    return rolling"
   ]
  },
  {
   "cell_type": "code",
   "execution_count": 5,
   "metadata": {
    "slideshow": {
     "slide_type": "subslide"
    }
   },
   "outputs": [],
   "source": [
    "def horizontal(smallest, largest, step, names, number_of_layers):\n",
    "    \"\"\"\n",
    "    Creates onlap stratal geometries using a min, max, step, names and numbers of layers\n",
    "    param smallest: the smallest integer value for stratigraphy\n",
    "    param largest: the largest integer value for stratigraphy\n",
    "    param step: the size of the step from smallest to largest\n",
    "    param names: names of the layers as strings in a list\n",
    "    param number_of_layers: number of layers to evaluate\n",
    " \n",
    "    \"\"\"\n",
    "    rolling = pd.DataFrame()\n",
    "    elevation_random = sorted(\n",
    "        np.random.uniform(smallest, largest, number_of_layers - 1)\n",
    "    )\n",
    "    for i in range(len(names[0 : number_of_layers - 1])):\n",
    "        strat_elevation = (\n",
    "            np.full(400, elevation_random[i]) + np.random.rand(400) / 5\n",
    "        )\n",
    "        basement = strat_elevation - abs(\n",
    "            np.random.uniform(smallest, largest)\n",
    "            + np.random.rand(400) / 5\n",
    "        )\n",
    "        elevation = (\n",
    "            np.full(400, strat_elevation + elevation_random[i])\n",
    "            + np.random.rand(400) / 5\n",
    "        )\n",
    "        topbasement = np.where(basement > elevation, elevation, basement)\n",
    "        layer_elevation = np.where(\n",
    "            strat_elevation > elevation, elevation, strat_elevation\n",
    "        )\n",
    "        rolling[\"zero\"] = topbasement\n",
    "        rolling[names[i]] = layer_elevation\n",
    "    return rolling"
   ]
  },
  {
   "cell_type": "markdown",
   "metadata": {
    "slideshow": {
     "slide_type": "subslide"
    }
   },
   "source": [
    "### Now some functions to build out features"
   ]
  },
  {
   "cell_type": "code",
   "execution_count": 6,
   "metadata": {
    "slideshow": {
     "slide_type": "subslide"
    }
   },
   "outputs": [],
   "source": [
    "def rotation(dataframe, j):\n",
    "    \"\"\"\n",
    "    Creates spatial samples and rotates them in the xy plane\n",
    "    param dataframe: dataframe output from stratigraphy generation\n",
    "    param j: controls the rotation of the dataset 0 is no rotation\n",
    "    \"\"\"\n",
    "    x = np.arange(0, 40, 0.1)\n",
    "    y = np.random.randint(0, 10, len(x))\n",
    "    # this is the rotation of the generated data\n",
    "    if j % 0.2 > 0.1:\n",
    "        dataframe[\"ex\"] = x * np.cos(-j / 2) - y * np.sin(-j / 2)\n",
    "        dataframe[\"ey\"] = y * np.cos(-j / 2) - x * np.sin(-j / 2)\n",
    "    else:\n",
    "        dataframe[\"ex\"] = x * np.cos(j / 2) - y * np.sin(j / 2)\n",
    "        dataframe[\"ey\"] = y * np.cos(j / 2) - x * np.sin(j / 2)\n",
    "    return dataframe"
   ]
  },
  {
   "cell_type": "code",
   "execution_count": 7,
   "metadata": {
    "slideshow": {
     "slide_type": "subslide"
    }
   },
   "outputs": [],
   "source": [
    "def depth_to_thickness(neighborhood, dataframe):\n",
    "    \"\"\"\n",
    "    Converts the depth dataframe from the adjacent wells function to thicknesses\n",
    "    param neighborhood: dataframe output from `adjacent_wells`\n",
    "    param dataframe: dataframe output from function `missing`\n",
    "    \"\"\"\n",
    "    locations = pd.DataFrame()\n",
    "    df = pd.DataFrame()\n",
    "    thicknesses = neighborhood.diff(axis=1)\n",
    "    thicknesses[thicknesses < 0] = 0\n",
    "    thicknesses.drop(columns=\"zero\", inplace=True)\n",
    "    locations = pd.concat((locations, dataframe.iloc[:, -2:]))\n",
    "    df = pd.concat((df, thicknesses))\n",
    "    return df, locations\n",
    "  \n",
    "    "
   ]
  },
  {
   "cell_type": "code",
   "execution_count": 8,
   "metadata": {
    "slideshow": {
     "slide_type": "subslide"
    }
   },
   "outputs": [],
   "source": [
    "def feature_list(no_of_neighbors):\n",
    "    \"\"\"\n",
    "    Creates a list of features given number of adjacent wells\n",
    "    param no_of_neighbors: number of adjacent wells used in feature engineering\n",
    "    \"\"\"\n",
    "    print(\"Getting the features\")\n",
    "    initial = [\"thickness\", \"thickness natural log\", \"thickness power\"]\n",
    "    features = []\n",
    "    for item in initial:\n",
    "        features.append(item)\n",
    "        for i in range(1, no_of_neighbors + 1):\n",
    "            features.append(item + \" neighbor \" + str(i))\n",
    "    features.append([\"x location\", \"y location\", \"class\"])\n",
    "    return list(flatten(features))"
   ]
  },
  {
   "cell_type": "code",
   "execution_count": 9,
   "metadata": {
    "slideshow": {
     "slide_type": "subslide"
    }
   },
   "outputs": [],
   "source": [
    "def flatten(container):\n",
    "    \"Flattens lists\"\n",
    "    for i in container:\n",
    "        if isinstance(i, (list, tuple)):\n",
    "            for j in flatten(i):\n",
    "                yield j\n",
    "        else:\n",
    "            yield i"
   ]
  },
  {
   "cell_type": "code",
   "execution_count": 10,
   "metadata": {
    "slideshow": {
     "slide_type": "subslide"
    }
   },
   "outputs": [],
   "source": [
    "np.random.seed(18)\n",
    "truncated = truncation(SMALLEST, LARGEST, STEP, NAMES, NUMBER_OF_LAYERS, 2) # 2 == wavelength\n",
    "trunc_rotated = rotation(truncated, 10) # 10 == rotation\n",
    "trunc_thickness, trunc_locations = depth_to_thickness(trunc_rotated, trunc_rotated)"
   ]
  },
  {
   "cell_type": "code",
   "execution_count": 11,
   "metadata": {
    "slideshow": {
     "slide_type": "subslide"
    }
   },
   "outputs": [],
   "source": [
    "np.random.seed(18)\n",
    "onlapping = onlap(SMALLEST, LARGEST, STEP, NAMES, NUMBER_OF_LAYERS, 10) # 10 == wavelength\n",
    "onlap_rotated = rotation(onlapping, 1) # 1 == rotation \n",
    "onlap_thickness, onlap_locations = depth_to_thickness(onlap_rotated, onlap_rotated)"
   ]
  },
  {
   "cell_type": "code",
   "execution_count": 12,
   "metadata": {
    "slideshow": {
     "slide_type": "subslide"
    }
   },
   "outputs": [],
   "source": [
    "np.random.seed(18)\n",
    "horizontally = horizontal(SMALLEST, LARGEST, STEP, NAMES, NUMBER_OF_LAYERS)\n",
    "horiz_rotated = rotation(horizontally, 1)\n",
    "horiz_thickness, horiz_locations = depth_to_thickness(horiz_rotated, horiz_rotated)"
   ]
  },
  {
   "cell_type": "code",
   "execution_count": 13,
   "metadata": {
    "slideshow": {
     "slide_type": "subslide"
    }
   },
   "outputs": [
    {
     "data": {
      "text/plain": [
       "Text(0.5, 1.0, 'Truncation Thickness')"
      ]
     },
     "execution_count": 13,
     "metadata": {},
     "output_type": "execute_result"
    },
    {
     "data": {
      "image/png": "[encoded data removed]",
      "text/plain": [
       "<Figure size 432x288 with 2 Axes>"
      ]
     },
     "metadata": {
      "needs_background": "light"
     },
     "output_type": "display_data"
    }
   ],
   "source": [
    "spline = vd.Spline()\n",
    "spline.fit((trunc_locations.ex*100, trunc_locations.ey*100), trunc_thickness.one*100)\n",
    "AUIGRID = spline.grid(spacing=1, data_names=[\"thickness\"])\n",
    "AUIGRID.thickness.plot.pcolormesh(cmap=\"magma\", vmin=0, vmax=700)\n",
    "plt.title(\"Truncation Thickness\")"
   ]
  },
  {
   "cell_type": "code",
   "execution_count": 14,
   "metadata": {
    "slideshow": {
     "slide_type": "subslide"
    }
   },
   "outputs": [
    {
     "data": {
      "text/plain": [
       "Text(0.5, 1.0, 'Truncation Structure')"
      ]
     },
     "execution_count": 14,
     "metadata": {},
     "output_type": "execute_result"
    },
    {
     "data": {
      "image/png": "[encoded data removed]",
      "text/plain": [
       "<Figure size 432x288 with 2 Axes>"
      ]
     },
     "metadata": {
      "needs_background": "light"
     },
     "output_type": "display_data"
    }
   ],
   "source": [
    "spline = vd.Spline()\n",
    "spline.fit((trunc_locations.ex*100, trunc_locations.ey*100), trunc_rotated.one*100)\n",
    "AUSGRID = spline.grid(spacing=1, data_names=[\"depth\"])\n",
    "AUSGRID.depth.plot.pcolormesh(cmap=\"viridis\", vmin=-200, vmax=800)\n",
    "plt.title(\"Truncation Structure\")"
   ]
  },
  {
   "cell_type": "code",
   "execution_count": 15,
   "metadata": {
    "slideshow": {
     "slide_type": "subslide"
    }
   },
   "outputs": [
    {
     "data": {
      "text/plain": [
       "Text(0.5, 1.0, 'Onlap Thickness')"
      ]
     },
     "execution_count": 15,
     "metadata": {},
     "output_type": "execute_result"
    },
    {
     "data": {
      "image/png": "[encoded data removed]",
      "text/plain": [
       "<Figure size 432x288 with 2 Axes>"
      ]
     },
     "metadata": {
      "needs_background": "light"
     },
     "output_type": "display_data"
    }
   ],
   "source": [
    "spline = vd.Spline()\n",
    "spline.fit((onlap_locations.ex*100, onlap_locations.ey*100), onlap_thickness.one*100)\n",
    "OLIGRID = spline.grid(spacing=1, data_names=[\"thickness\"])\n",
    "OLIGRID.thickness.plot.pcolormesh(cmap=\"magma\", vmin=0, vmax=700)\n",
    "plt.title(\"Onlap Thickness\")"
   ]
  },
  {
   "cell_type": "code",
   "execution_count": 16,
   "metadata": {
    "slideshow": {
     "slide_type": "subslide"
    }
   },
   "outputs": [
    {
     "data": {
      "text/plain": [
       "Text(0.5, 1.0, 'Onlap Structure')"
      ]
     },
     "execution_count": 16,
     "metadata": {},
     "output_type": "execute_result"
    },
    {
     "data": {
      "image/png": "[encoded data removed]",
      "text/plain": [
       "<Figure size 432x288 with 2 Axes>"
      ]
     },
     "metadata": {
      "needs_background": "light"
     },
     "output_type": "display_data"
    }
   ],
   "source": [
    "spline = vd.Spline()\n",
    "spline.fit((onlap_locations.ex*100, onlap_locations.ey*100), onlap_rotated.one*100)\n",
    "OLSGRID = spline.grid(spacing=1, data_names=[\"depth\"])\n",
    "OLSGRID.depth.plot.pcolormesh(cmap=\"viridis\", vmin=-200, vmax=800)\n",
    "plt.title(\"Onlap Structure\")"
   ]
  },
  {
   "cell_type": "markdown",
   "metadata": {
    "slideshow": {
     "slide_type": "slide"
    }
   },
   "source": [
    "## Feature Engineering\n",
    "\n",
    "We have a conceptual model with features:\n",
    "* X location\n",
    "* Y location\n",
    "* Depth to top\n",
    "\n",
    "<p float=\"center\">\n",
    "  <img src=\"initfeat.jpg\" width=\"225\" />   \n",
    "</p>"
   ]
  },
  {
   "cell_type": "markdown",
   "metadata": {
    "slideshow": {
     "slide_type": "subslide"
    }
   },
   "source": [
    "#### Feature Engineering helped us humans in our cross sections above let's add some engineered features\n",
    "\n",
    "* Calculate thickness at each point\n",
    "* Log transform of thickness\n",
    "* Power transform of thickness\n",
    "* The 3 features above for each nearby well (wells don't live in a spatial vacuum)\n",
    "* Add in some missing at random tops (similar to real world situations)"
   ]
  },
  {
   "cell_type": "markdown",
   "metadata": {
    "slideshow": {
     "slide_type": "subslide"
    }
   },
   "source": [
    "<p float=\"center\">\n",
    "  <img src=\"engfeat.jpg\" width=\"900\" />   \n",
    "\n",
    "</p>\n",
    "\n",
    "Let's look at `01_training_data.ipynb`"
   ]
  },
  {
   "cell_type": "markdown",
   "metadata": {
    "slideshow": {
     "slide_type": "slide"
    }
   },
   "source": [
    "## Model Selection\n",
    "\n",
    "* We now have a dataset we can train a machine learning classifier on!\n",
    "* How do we measure accuracy for this?\n",
    "* Let's use the Jaccard Similarity Metric\n",
    "    * \"the size of the intersection divided by the size of the union of two label sets...compares a set of predicted labels ... to the true values\"\n",
    "* Value of 1 == 100% accuracy\n",
    "* Value of 0 == 0% accuracy\n",
    "\n",
    "Let's pick a few classification models and see how they do \"out of the box\""
   ]
  },
  {
   "cell_type": "code",
   "execution_count": 17,
   "metadata": {
    "slideshow": {
     "slide_type": "subslide"
    }
   },
   "outputs": [],
   "source": [
    "import pandas as pd\n",
    "from sklearn.model_selection import train_test_split\n",
    "from sklearn import svm\n",
    "from sklearn.tree import DecisionTreeClassifier\n",
    "from sklearn.ensemble import RandomForestClassifier, AdaBoostClassifier\n",
    "from sklearn.neighbors import KNeighborsClassifier\n",
    "from sklearn.metrics import jaccard_score"
   ]
  },
  {
   "cell_type": "code",
   "execution_count": 25,
   "metadata": {
    "slideshow": {
     "slide_type": "subslide"
    }
   },
   "outputs": [
    {
     "data": {
      "text/html": [
       "<div>\n",
       "<style scoped>\n",
       "    .dataframe tbody tr th:only-of-type {\n",
       "        vertical-align: middle;\n",
       "    }\n",
       "\n",
       "    .dataframe tbody tr th {\n",
       "        vertical-align: top;\n",
       "    }\n",
       "\n",
       "    .dataframe thead th {\n",
       "        text-align: right;\n",
       "    }\n",
       "</style>\n",
       "<table border=\"1\" class=\"dataframe\">\n",
       "  <thead>\n",
       "    <tr style=\"text-align: right;\">\n",
       "      <th></th>\n",
       "      <th>thickness</th>\n",
       "      <th>thickness neighbor 1</th>\n",
       "      <th>thickness neighbor 2</th>\n",
       "      <th>thickness neighbor 3</th>\n",
       "      <th>thickness neighbor 4</th>\n",
       "      <th>thickness neighbor 5</th>\n",
       "      <th>thickness neighbor 6</th>\n",
       "      <th>thickness neighbor 7</th>\n",
       "      <th>thickness neighbor 8</th>\n",
       "      <th>thickness neighbor 9</th>\n",
       "      <th>...</th>\n",
       "      <th>thickness power neighbor 393</th>\n",
       "      <th>thickness power neighbor 394</th>\n",
       "      <th>thickness power neighbor 395</th>\n",
       "      <th>thickness power neighbor 396</th>\n",
       "      <th>thickness power neighbor 397</th>\n",
       "      <th>thickness power neighbor 398</th>\n",
       "      <th>thickness power neighbor 399</th>\n",
       "      <th>x location</th>\n",
       "      <th>y location</th>\n",
       "      <th>class</th>\n",
       "    </tr>\n",
       "  </thead>\n",
       "  <tbody>\n",
       "    <tr>\n",
       "      <th>0</th>\n",
       "      <td>0.989164</td>\n",
       "      <td>0.997804</td>\n",
       "      <td>0.145011</td>\n",
       "      <td>0.140579</td>\n",
       "      <td>0.989637</td>\n",
       "      <td>0.997083</td>\n",
       "      <td>0.151415</td>\n",
       "      <td>0.984158</td>\n",
       "      <td>0.132947</td>\n",
       "      <td>0.996989</td>\n",
       "      <td>...</td>\n",
       "      <td>0.469745</td>\n",
       "      <td>0.001928</td>\n",
       "      <td>0.002412</td>\n",
       "      <td>0.002352</td>\n",
       "      <td>0.000496</td>\n",
       "      <td>1.000000</td>\n",
       "      <td>0.000000</td>\n",
       "      <td>0.025438</td>\n",
       "      <td>0.804583</td>\n",
       "      <td>truncation</td>\n",
       "    </tr>\n",
       "    <tr>\n",
       "      <th>1</th>\n",
       "      <td>0.993069</td>\n",
       "      <td>0.158518</td>\n",
       "      <td>0.997046</td>\n",
       "      <td>0.125418</td>\n",
       "      <td>0.099472</td>\n",
       "      <td>0.997083</td>\n",
       "      <td>0.151415</td>\n",
       "      <td>0.984158</td>\n",
       "      <td>0.997798</td>\n",
       "      <td>0.135135</td>\n",
       "      <td>...</td>\n",
       "      <td>0.469745</td>\n",
       "      <td>0.002412</td>\n",
       "      <td>0.001928</td>\n",
       "      <td>0.002352</td>\n",
       "      <td>0.000496</td>\n",
       "      <td>1.000000</td>\n",
       "      <td>0.000000</td>\n",
       "      <td>0.000000</td>\n",
       "      <td>1.000000</td>\n",
       "      <td>truncation</td>\n",
       "    </tr>\n",
       "    <tr>\n",
       "      <th>2</th>\n",
       "      <td>0.997804</td>\n",
       "      <td>0.996779</td>\n",
       "      <td>0.996813</td>\n",
       "      <td>0.989164</td>\n",
       "      <td>0.148022</td>\n",
       "      <td>0.984689</td>\n",
       "      <td>0.135106</td>\n",
       "      <td>0.144972</td>\n",
       "      <td>0.118781</td>\n",
       "      <td>0.125444</td>\n",
       "      <td>...</td>\n",
       "      <td>0.469745</td>\n",
       "      <td>0.001928</td>\n",
       "      <td>0.002412</td>\n",
       "      <td>0.002352</td>\n",
       "      <td>0.000496</td>\n",
       "      <td>1.000000</td>\n",
       "      <td>0.000000</td>\n",
       "      <td>0.023262</td>\n",
       "      <td>0.850931</td>\n",
       "      <td>truncation</td>\n",
       "    </tr>\n",
       "    <tr>\n",
       "      <th>3</th>\n",
       "      <td>0.987700</td>\n",
       "      <td>0.989470</td>\n",
       "      <td>0.982919</td>\n",
       "      <td>0.140579</td>\n",
       "      <td>0.141552</td>\n",
       "      <td>0.981977</td>\n",
       "      <td>0.982368</td>\n",
       "      <td>0.989164</td>\n",
       "      <td>0.141371</td>\n",
       "      <td>0.147452</td>\n",
       "      <td>...</td>\n",
       "      <td>0.001928</td>\n",
       "      <td>0.469745</td>\n",
       "      <td>0.002352</td>\n",
       "      <td>0.002412</td>\n",
       "      <td>0.000496</td>\n",
       "      <td>0.005819</td>\n",
       "      <td>0.352576</td>\n",
       "      <td>0.046525</td>\n",
       "      <td>0.701862</td>\n",
       "      <td>truncation</td>\n",
       "    </tr>\n",
       "    <tr>\n",
       "      <th>4</th>\n",
       "      <td>0.158518</td>\n",
       "      <td>0.993069</td>\n",
       "      <td>0.997046</td>\n",
       "      <td>0.103070</td>\n",
       "      <td>0.121915</td>\n",
       "      <td>0.997083</td>\n",
       "      <td>0.151415</td>\n",
       "      <td>0.984158</td>\n",
       "      <td>0.132947</td>\n",
       "      <td>0.998014</td>\n",
       "      <td>...</td>\n",
       "      <td>0.469745</td>\n",
       "      <td>0.002412</td>\n",
       "      <td>0.001928</td>\n",
       "      <td>0.002352</td>\n",
       "      <td>0.000496</td>\n",
       "      <td>1.000000</td>\n",
       "      <td>0.000000</td>\n",
       "      <td>0.007172</td>\n",
       "      <td>0.995704</td>\n",
       "      <td>truncation</td>\n",
       "    </tr>\n",
       "  </tbody>\n",
       "</table>\n",
       "<p>5 rows × 1203 columns</p>\n",
       "</div>"
      ],
      "text/plain": [
       "   thickness  thickness neighbor 1  thickness neighbor 2  \\\n",
       "0   0.989164              0.997804              0.145011   \n",
       "1   0.993069              0.158518              0.997046   \n",
       "2   0.997804              0.996779              0.996813   \n",
       "3   0.987700              0.989470              0.982919   \n",
       "4   0.158518              0.993069              0.997046   \n",
       "\n",
       "   thickness neighbor 3  thickness neighbor 4  thickness neighbor 5  \\\n",
       "0              0.140579              0.989637              0.997083   \n",
       "1              0.125418              0.099472              0.997083   \n",
       "2              0.989164              0.148022              0.984689   \n",
       "3              0.140579              0.141552              0.981977   \n",
       "4              0.103070              0.121915              0.997083   \n",
       "\n",
       "   thickness neighbor 6  thickness neighbor 7  thickness neighbor 8  \\\n",
       "0              0.151415              0.984158              0.132947   \n",
       "1              0.151415              0.984158              0.997798   \n",
       "2              0.135106              0.144972              0.118781   \n",
       "3              0.982368              0.989164              0.141371   \n",
       "4              0.151415              0.984158              0.132947   \n",
       "\n",
       "   thickness neighbor 9  ...  thickness power neighbor 393  \\\n",
       "0              0.996989  ...                      0.469745   \n",
       "1              0.135135  ...                      0.469745   \n",
       "2              0.125444  ...                      0.469745   \n",
       "3              0.147452  ...                      0.001928   \n",
       "4              0.998014  ...                      0.469745   \n",
       "\n",
       "   thickness power neighbor 394  thickness power neighbor 395  \\\n",
       "0                      0.001928                      0.002412   \n",
       "1                      0.002412                      0.001928   \n",
       "2                      0.001928                      0.002412   \n",
       "3                      0.469745                      0.002352   \n",
       "4                      0.002412                      0.001928   \n",
       "\n",
       "   thickness power neighbor 396  thickness power neighbor 397  \\\n",
       "0                      0.002352                      0.000496   \n",
       "1                      0.002352                      0.000496   \n",
       "2                      0.002352                      0.000496   \n",
       "3                      0.002412                      0.000496   \n",
       "4                      0.002352                      0.000496   \n",
       "\n",
       "   thickness power neighbor 398  thickness power neighbor 399  x location  \\\n",
       "0                      1.000000                      0.000000    0.025438   \n",
       "1                      1.000000                      0.000000    0.000000   \n",
       "2                      1.000000                      0.000000    0.023262   \n",
       "3                      0.005819                      0.352576    0.046525   \n",
       "4                      1.000000                      0.000000    0.007172   \n",
       "\n",
       "   y location       class  \n",
       "0    0.804583  truncation  \n",
       "1    1.000000  truncation  \n",
       "2    0.850931  truncation  \n",
       "3    0.701862  truncation  \n",
       "4    0.995704  truncation  \n",
       "\n",
       "[5 rows x 1203 columns]"
      ]
     },
     "execution_count": 25,
     "metadata": {},
     "output_type": "execute_result"
    }
   ],
   "source": [
    "# read the data we made\n",
    "dataset = pd.read_csv(r'stratigraphic_geometry_dataset.csv', index_col=[0])\n",
    "dataset.head()"
   ]
  },
  {
   "cell_type": "code",
   "execution_count": 26,
   "metadata": {
    "slideshow": {
     "slide_type": "subslide"
    }
   },
   "outputs": [
    {
     "name": "stdout",
     "output_type": "stream",
     "text": [
      "Getting the features\n"
     ]
    },
    {
     "data": {
      "text/html": [
       "<div>\n",
       "<style scoped>\n",
       "    .dataframe tbody tr th:only-of-type {\n",
       "        vertical-align: middle;\n",
       "    }\n",
       "\n",
       "    .dataframe tbody tr th {\n",
       "        vertical-align: top;\n",
       "    }\n",
       "\n",
       "    .dataframe thead th {\n",
       "        text-align: right;\n",
       "    }\n",
       "</style>\n",
       "<table border=\"1\" class=\"dataframe\">\n",
       "  <thead>\n",
       "    <tr style=\"text-align: right;\">\n",
       "      <th></th>\n",
       "      <th>thickness</th>\n",
       "      <th>thickness natural log</th>\n",
       "      <th>thickness power</th>\n",
       "      <th>x location</th>\n",
       "      <th>y location</th>\n",
       "    </tr>\n",
       "  </thead>\n",
       "  <tbody>\n",
       "    <tr>\n",
       "      <th>191</th>\n",
       "      <td>0.101742</td>\n",
       "      <td>0.448287</td>\n",
       "      <td>6.952262e-10</td>\n",
       "      <td>0.268861</td>\n",
       "      <td>0.554104</td>\n",
       "    </tr>\n",
       "    <tr>\n",
       "      <th>197</th>\n",
       "      <td>0.996283</td>\n",
       "      <td>0.999164</td>\n",
       "      <td>9.638883e-01</td>\n",
       "      <td>0.493734</td>\n",
       "      <td>0.666667</td>\n",
       "    </tr>\n",
       "    <tr>\n",
       "      <th>257</th>\n",
       "      <td>0.971061</td>\n",
       "      <td>0.981027</td>\n",
       "      <td>8.375555e-01</td>\n",
       "      <td>0.337916</td>\n",
       "      <td>0.670609</td>\n",
       "    </tr>\n",
       "    <tr>\n",
       "      <th>271</th>\n",
       "      <td>0.419412</td>\n",
       "      <td>0.795133</td>\n",
       "      <td>1.684264e-04</td>\n",
       "      <td>0.379617</td>\n",
       "      <td>0.363266</td>\n",
       "    </tr>\n",
       "    <tr>\n",
       "      <th>372</th>\n",
       "      <td>0.000000</td>\n",
       "      <td>0.000000</td>\n",
       "      <td>0.000000e+00</td>\n",
       "      <td>0.849545</td>\n",
       "      <td>0.692486</td>\n",
       "    </tr>\n",
       "    <tr>\n",
       "      <th>...</th>\n",
       "      <td>...</td>\n",
       "      <td>...</td>\n",
       "      <td>...</td>\n",
       "      <td>...</td>\n",
       "      <td>...</td>\n",
       "    </tr>\n",
       "    <tr>\n",
       "      <th>307</th>\n",
       "      <td>0.000000</td>\n",
       "      <td>0.556125</td>\n",
       "      <td>0.000000e+00</td>\n",
       "      <td>0.275040</td>\n",
       "      <td>0.513763</td>\n",
       "    </tr>\n",
       "    <tr>\n",
       "      <th>364</th>\n",
       "      <td>0.976427</td>\n",
       "      <td>0.995755</td>\n",
       "      <td>7.877637e-01</td>\n",
       "      <td>0.145473</td>\n",
       "      <td>0.410302</td>\n",
       "    </tr>\n",
       "    <tr>\n",
       "      <th>300</th>\n",
       "      <td>0.000000</td>\n",
       "      <td>0.611820</td>\n",
       "      <td>0.000000e+00</td>\n",
       "      <td>0.375847</td>\n",
       "      <td>0.731893</td>\n",
       "    </tr>\n",
       "    <tr>\n",
       "      <th>64</th>\n",
       "      <td>0.018271</td>\n",
       "      <td>0.034535</td>\n",
       "      <td>3.246879e-06</td>\n",
       "      <td>0.831884</td>\n",
       "      <td>0.268978</td>\n",
       "    </tr>\n",
       "    <tr>\n",
       "      <th>20</th>\n",
       "      <td>0.000000</td>\n",
       "      <td>0.611820</td>\n",
       "      <td>0.000000e+00</td>\n",
       "      <td>0.944088</td>\n",
       "      <td>0.045127</td>\n",
       "    </tr>\n",
       "  </tbody>\n",
       "</table>\n",
       "<p>23040 rows × 5 columns</p>\n",
       "</div>"
      ],
      "text/plain": [
       "     thickness  thickness natural log  thickness power  x location  y location\n",
       "191   0.101742               0.448287     6.952262e-10    0.268861    0.554104\n",
       "197   0.996283               0.999164     9.638883e-01    0.493734    0.666667\n",
       "257   0.971061               0.981027     8.375555e-01    0.337916    0.670609\n",
       "271   0.419412               0.795133     1.684264e-04    0.379617    0.363266\n",
       "372   0.000000               0.000000     0.000000e+00    0.849545    0.692486\n",
       "..         ...                    ...              ...         ...         ...\n",
       "307   0.000000               0.556125     0.000000e+00    0.275040    0.513763\n",
       "364   0.976427               0.995755     7.877637e-01    0.145473    0.410302\n",
       "300   0.000000               0.611820     0.000000e+00    0.375847    0.731893\n",
       "64    0.018271               0.034535     3.246879e-06    0.831884    0.268978\n",
       "20    0.000000               0.611820     0.000000e+00    0.944088    0.045127\n",
       "\n",
       "[23040 rows x 5 columns]"
      ]
     },
     "execution_count": 26,
     "metadata": {},
     "output_type": "execute_result"
    }
   ],
   "source": [
    "# Set number of wells in vicinity\n",
    "wells_in_vicinity = 0\n",
    "flat_features = feature_list(wells_in_vicinity)\n",
    "subset = dataset[flat_features]\n",
    "\n",
    "# split the dataset into test/train subsets\n",
    "X_train, X_test, y_train, y_test = train_test_split(\n",
    "        subset.drop(\"class\", axis=1), subset[\"class\"], test_size=0.2, random_state=86,\n",
    "    )\n",
    "X_train"
   ]
  },
  {
   "cell_type": "markdown",
   "metadata": {
    "slideshow": {
     "slide_type": "subslide"
    }
   },
   "source": [
    "### Let's see how random guessing performs for a baseline"
   ]
  },
  {
   "cell_type": "code",
   "execution_count": 19,
   "metadata": {
    "slideshow": {
     "slide_type": "subslide"
    }
   },
   "outputs": [
    {
     "name": "stdout",
     "output_type": "stream",
     "text": [
      "Accuracy for each class is [0.20437956 0.20804954 0.18985372]\n",
      "Average weighted accuracy is 0.20\n"
     ]
    }
   ],
   "source": [
    "# random\n",
    "np.random.seed(18)\n",
    "y_pred = np.random.choice(['truncation', 'onlap', 'horizontal'], len(y_test))\n",
    "weighted_jc_score = jaccard_score(y_test, y_pred, average='weighted')\n",
    "print(f'Accuracy for each class is {jaccard_score(y_test, y_pred, average=None)}')\n",
    "print(f'Average weighted accuracy is {weighted_jc_score:.2f}')"
   ]
  },
  {
   "cell_type": "markdown",
   "metadata": {
    "slideshow": {
     "slide_type": "subslide"
    }
   },
   "source": [
    "### Now a support vector classifier"
   ]
  },
  {
   "cell_type": "code",
   "execution_count": 20,
   "metadata": {
    "slideshow": {
     "slide_type": "subslide"
    }
   },
   "outputs": [
    {
     "name": "stdout",
     "output_type": "stream",
     "text": [
      "Accuracy for each class is [0.75636212 0.48589126 0.30998249]\n",
      "Average weighted accuracy is 0.52\n"
     ]
    }
   ],
   "source": [
    "# SVM\n",
    "svmclf = svm.SVC()\n",
    "svmclf.fit(X_train, y_train)\n",
    "y_pred = svmclf.predict(X_test)\n",
    "weighted_jc_score = jaccard_score(y_test, y_pred, average='weighted')\n",
    "print(f'Accuracy for each class is {jaccard_score(y_test, y_pred, average=None)}')\n",
    "print(f'Average weighted accuracy is {weighted_jc_score:.2f}')"
   ]
  },
  {
   "cell_type": "markdown",
   "metadata": {
    "slideshow": {
     "slide_type": "subslide"
    }
   },
   "source": [
    "### How about a decision tree?"
   ]
  },
  {
   "cell_type": "code",
   "execution_count": 21,
   "metadata": {
    "slideshow": {
     "slide_type": "subslide"
    }
   },
   "outputs": [
    {
     "name": "stdout",
     "output_type": "stream",
     "text": [
      "Accuracy for each class is [0.9218509  0.72567923 0.73936652]\n",
      "Average weighted accuracy is 0.79\n"
     ]
    }
   ],
   "source": [
    "# Decision Tree\n",
    "dtclf = DecisionTreeClassifier()\n",
    "dtclf.fit(X_train, y_train)\n",
    "y_pred = dtclf.predict(X_test)\n",
    "weighted_jc_score = jaccard_score(y_test, y_pred, average='weighted')\n",
    "print(f'Accuracy for each class is {jaccard_score(y_test, y_pred, average=None)}')\n",
    "print(f'Average weighted accuracy is {weighted_jc_score:.2f}')"
   ]
  },
  {
   "cell_type": "markdown",
   "metadata": {
    "slideshow": {
     "slide_type": "subslide"
    }
   },
   "source": [
    "### A random forest"
   ]
  },
  {
   "cell_type": "code",
   "execution_count": 22,
   "metadata": {
    "slideshow": {
     "slide_type": "subslide"
    }
   },
   "outputs": [
    {
     "name": "stdout",
     "output_type": "stream",
     "text": [
      "Accuracy for each class is [0.93536711 0.76908924 0.7819583 ]\n",
      "Average weighted accuracy is 0.83\n"
     ]
    }
   ],
   "source": [
    "# Random Forest\n",
    "rfclf = RandomForestClassifier()\n",
    "rfclf.fit(X_train, y_train)\n",
    "y_pred = rfclf.predict(X_test)\n",
    "weighted_jc_score = jaccard_score(y_test, y_pred, average='weighted')\n",
    "print(f'Accuracy for each class is {jaccard_score(y_test, y_pred, average=None)}')\n",
    "print(f'Average weighted accuracy is {weighted_jc_score:.2f}')"
   ]
  },
  {
   "cell_type": "markdown",
   "metadata": {
    "slideshow": {
     "slide_type": "subslide"
    }
   },
   "source": [
    "### What about boosting?"
   ]
  },
  {
   "cell_type": "code",
   "execution_count": 23,
   "metadata": {
    "slideshow": {
     "slide_type": "subslide"
    }
   },
   "outputs": [
    {
     "name": "stdout",
     "output_type": "stream",
     "text": [
      "Accuracy for each class is [0.7580574  0.36306672 0.39484199]\n",
      "Average weighted accuracy is 0.50\n"
     ]
    }
   ],
   "source": [
    "# AdaBoost\n",
    "abclf = AdaBoostClassifier()\n",
    "abclf.fit(X_train, y_train)\n",
    "y_pred = abclf.predict(X_test)\n",
    "weighted_jc_score = jaccard_score(y_test, y_pred, average='weighted')\n",
    "print(f'Accuracy for each class is {jaccard_score(y_test, y_pred, average=None)}')\n",
    "print(f'Average weighted accuracy is {weighted_jc_score:.2f}')"
   ]
  },
  {
   "cell_type": "markdown",
   "metadata": {
    "slideshow": {
     "slide_type": "subslide"
    }
   },
   "source": [
    "### What about a k-neighbors classifier?"
   ]
  },
  {
   "cell_type": "code",
   "execution_count": 24,
   "metadata": {
    "slideshow": {
     "slide_type": "subslide"
    }
   },
   "outputs": [
    {
     "name": "stdout",
     "output_type": "stream",
     "text": [
      "Accuracy for each class is [0.72285464 0.58974359 0.53508412]\n",
      "Average weighted accuracy is 0.61\n"
     ]
    }
   ],
   "source": [
    "# KNN\n",
    "knclf = KNeighborsClassifier()\n",
    "knclf.fit(X_train, y_train)\n",
    "y_pred = knclf.predict(X_test)\n",
    "weighted_jc_score = jaccard_score(y_test, y_pred, average='weighted')\n",
    "print(f'Accuracy for each class is {jaccard_score(y_test, y_pred, average=None)}')\n",
    "print(f'Average weighted accuracy is {weighted_jc_score:.2f}')"
   ]
  },
  {
   "cell_type": "markdown",
   "metadata": {
    "slideshow": {
     "slide_type": "slide"
    }
   },
   "source": [
    "## Active learning grid search\n",
    "\n",
    "* **Random forest** has the best initial accuracy\n",
    "* Let's tune the hyperparameters for it\n",
    "* Hyperparameters are chosen before training begins (user specified)\n",
    "* Grid search for parameters with 5 fold cross validation\n",
    "* We need a certainty measure to stop training before it overfits\n",
    "\n",
    "<p align=\"right\">\n",
    "    <img src=\"gridsearch.jpg\" width=\"400\" height=\"400\" />\n",
    "\n",
    "</p>\n",
    "\n",
    "`03_active_learning_grid_search.ipynb`"
   ]
  },
  {
   "cell_type": "markdown",
   "metadata": {
    "slideshow": {
     "slide_type": "slide"
    }
   },
   "source": [
    "## How does the classifier perform?\n",
    "\n",
    "* We split our generated dataset into **test/train** subsets\n",
    "* How confused is our model? \n",
    "* 88.4% Accuracy, 72.8% certainty\n",
    "<p align=\"right\">\n",
    "    <img src=\"confusion.jpg\" width=\"400\" height=\"400\" />\n",
    "</p>\n"
   ]
  },
  {
   "cell_type": "markdown",
   "metadata": {
    "slideshow": {
     "slide_type": "subslide"
    }
   },
   "source": [
    "## Now what?\n",
    "\n",
    "* How do we translate from predictions on our synthetic data to \"real world\" data?\n",
    "* Find a subsurface dataset and process it in the same manner\n",
    "    * Calculate formation thicknesses\n",
    "    * Feature Engineering (log and power transforms, wells in vicinity)\n",
    "* Make predictions and visualize with classifier certainty\n"
   ]
  },
  {
   "cell_type": "markdown",
   "metadata": {
    "slideshow": {
     "slide_type": "slide"
    }
   },
   "source": [
    "## Real World Predictions\n",
    "\n",
    "<img src = \"https://content.govdelivery.com/attachments/fancy_images/WYSGS/2015/07/566177/banner-600_original.jpg\" width=\"500\" />\n",
    "\n",
    "* Subsurface data from the Wyoming State Geological Survey (Lynds and Lichtner, 2016)\n",
    "* Eastern Greater Green River Basin\n",
    "* Subsurface formation tops picked:\n",
    "    * Fort Union\n",
    "    * Lance Formation\n",
    "    * Fox Hills Sandstone"
   ]
  },
  {
   "cell_type": "markdown",
   "metadata": {
    "slideshow": {
     "slide_type": "subslide"
    }
   },
   "source": [
    "<p align=\"right\">\n",
    "    <img src=\"overviewmap.jpg\" width=\"600\" height=\"600\" />\n",
    "\n",
    "</p>"
   ]
  },
  {
   "cell_type": "markdown",
   "metadata": {
    "slideshow": {
     "slide_type": "slide"
    }
   },
   "source": [
    "## Spatial Results\n",
    "### Geologic Interpretation\n",
    "\n",
    "<p align=\"right\">\n",
    "    <img src=\"lance.jpg\" width=\"600\" height=\"600\" />\n",
    "</p>"
   ]
  },
  {
   "cell_type": "markdown",
   "metadata": {
    "slideshow": {
     "slide_type": "subslide"
    }
   },
   "source": [
    "* Lance Formation\n",
    "    * Central Great Divide Basin: conformable with Fox Hills Formation and Fort Union Formation\n",
    "    * The band of wells classified as onlap interpreted as a wide basin margin during deposition\n",
    "    * Truncation swath includes Wamsutter Arch, Rock Springs Uplift, Dad Arch, on trend with Sierra Madre Uplift and Wind River Range"
   ]
  },
  {
   "cell_type": "markdown",
   "metadata": {
    "slideshow": {
     "slide_type": "slide"
    }
   },
   "source": [
    "<p align=\"right\">\n",
    "    <img src=\"ftunion.jpg\" width=\"600\" height=\"600\" />\n",
    "    <img src=\"certainty.jpg\" width=\"600\" height=\"600\" />\n",
    "    \n",
    "</p>"
   ]
  },
  {
   "cell_type": "markdown",
   "metadata": {
    "slideshow": {
     "slide_type": "subslide"
    }
   },
   "source": [
    "* Fort Union Formation\n",
    "    * Mostly horizontally stratified\n",
    "    * Truncation and onlap mixed along west end of Wamsutter Arch matches field mapping\n",
    "    * Also Almond/Lewis age paleohigh\n",
    "    * Washakie Basin truncation (ne-sw) follows regional trends, truncation on Cherokee Arch\n",
    "    * Tough in this area because of geometry similarity, but now a measure of confidence"
   ]
  },
  {
   "cell_type": "markdown",
   "metadata": {
    "slideshow": {
     "slide_type": "slide"
    }
   },
   "source": [
    "## Data Science Interpretation\n",
    "\n",
    "* Geolocially reasonable results\n",
    "* Uncertainty identifies areas an expert should reevaluate\n",
    "* What do the predictions look in lower dimensional space?\n",
    "* Dimension reduction with t-distributed stochastic neighbor embedding (t-SNE)"
   ]
  },
  {
   "cell_type": "markdown",
   "metadata": {
    "slideshow": {
     "slide_type": "subslide"
    }
   },
   "source": [
    "<p align=\"right\">\n",
    "    <img src=\"tsne.jpg\" width=\"600\" height=\"600\" />\n",
    "</p>"
   ]
  },
  {
   "cell_type": "markdown",
   "metadata": {
    "slideshow": {
     "slide_type": "subslide"
    }
   },
   "source": [
    "* Horizontal stratification clusters in a distinct region\n",
    "* Overlap between onlap and truncation in this space\n",
    "    * Intuitive since they look the same "
   ]
  },
  {
   "cell_type": "markdown",
   "metadata": {
    "slideshow": {
     "slide_type": "subslide"
    }
   },
   "source": [
    "* What does the synthetic dataset tell us about each class?\n",
    "* Compare the distribution of one feature and one sample to the distribution of the entire class\n",
    "* Measure similarity with the K-L divergence\n",
    "* Lower K-L divergence values == more similar to that class"
   ]
  },
  {
   "cell_type": "markdown",
   "metadata": {
    "slideshow": {
     "slide_type": "subslide"
    }
   },
   "source": [
    "<p align=\"right\">\n",
    "    <img src=\"kl-divergence.jpg\" width=\"200\" height=\"200\" />\n",
    "</p>\n",
    "* Increasing wells in vicinity == decreasing divergence"
   ]
  },
  {
   "cell_type": "markdown",
   "metadata": {
    "slideshow": {
     "slide_type": "slide"
    }
   },
   "source": [
    "## What we Learned\n",
    "<p align=\"right\">\n",
    "    <img src=\"models.png\" width=\"600\" height=\"600\" />\n",
    "</p>\n",
    "\n"
   ]
  },
  {
   "cell_type": "markdown",
   "metadata": {
    "slideshow": {
     "slide_type": "subslide"
    }
   },
   "source": [
    "#### But some models help us stop arm waving\n",
    "<p align=\"right\">\n",
    "    <img src=\"armwaving.jpg\" width=\"600\" height=\"600\" />\n",
    "</p>\n",
    "\n"
   ]
  },
  {
   "cell_type": "markdown",
   "metadata": {
    "slideshow": {
     "slide_type": "subslide"
    }
   },
   "source": [
    "#### Yours truly arm waving on the Rock Springs Uplift\n",
    "\n",
    "<p align=\"right\">\n",
    "    <img src=\"waving.jpg\" width=\"400\" />\n",
    "</p>\n",
    "\n"
   ]
  },
  {
   "cell_type": "markdown",
   "metadata": {
    "slideshow": {
     "slide_type": "subslide"
    }
   },
   "source": [
    "## What we learned\n",
    "\n",
    "* The classification model is **useful**\n",
    "* High classification accuracy is possible on the training dataset\n",
    "* Qualitatively does a reasonable job in the real world\n",
    "* **Classifications are consistent with spot checks and previous interpretations**\n",
    "* Still areas with misclassifications\n",
    "* Certainty measure is useful to interpret the predictions"
   ]
  },
  {
   "cell_type": "markdown",
   "metadata": {
    "slideshow": {
     "slide_type": "slide"
    }
   },
   "source": [
    "## Recommendations\n",
    "\n",
    "#### For this model\n",
    "* Classification model aids geologists in searching for unique patterns\n",
    "* Interpret geometries across a basin in seconds\n",
    "* Uncertain areas can then be interrogated further\n",
    "* Try this at different scales (bedset to sequence)"
   ]
  },
  {
   "cell_type": "markdown",
   "metadata": {
    "slideshow": {
     "slide_type": "subslide"
    }
   },
   "source": [
    "#### In General\n",
    "* Transfer learning has tremendous opportunities in the subsurface\n",
    "* Subsurface experts **need** to be fluent in data/stats/ML/AI  \n",
    "* The fusion of on the ground and data driven geoscience research is already here\n",
    "\n",
    "\n",
    "* Examples of what UT **Freshmen** computer scientists are doing:\n",
    "    * Automatic well-log correlation (in review)\n",
    "    * Automatic curve aliasing (in prep, open source)\n",
    "    * Satellite images to geologic maps (proof of concept works)\n",
    "    * Well path optimization (Reinforcement learning proof of concept)\n",
    "    * 3D kriging (geostatspy)\n",
    "    * Spatial debiasing (proof of concept)"
   ]
  },
  {
   "cell_type": "markdown",
   "metadata": {
    "slideshow": {
     "slide_type": "slide"
    }
   },
   "source": [
    "## Thanks for coming! Let's have a discussion!\n",
    "#### Want to work together with the Energy Analytics team? Get in touch jesse.pisel@austin.utexas.edu"
   ]
  }
 ],
 "metadata": {
  "celltoolbar": "Slideshow",
  "kernelspec": {
   "display_name": "Python 3",
   "language": "python",
   "name": "python3"
  },
  "language_info": {
   "codemirror_mode": {
    "name": "ipython",
    "version": 3
   },
   "file_extension": ".py",
   "mimetype": "text/x-python",
   "name": "python",
   "nbconvert_exporter": "python",
   "pygments_lexer": "ipython3",
   "version": "3.8.5"
  }
 },
 "nbformat": 4,
 "nbformat_minor": 4
}
