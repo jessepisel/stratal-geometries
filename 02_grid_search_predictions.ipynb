{
 "cells": [
  {
   "cell_type": "markdown",
   "metadata": {},
   "source": [
    "# Grid Search for optimal parameters\n",
    "This notebook conducts a grid search for the optimal KNN parameters along with the optimal number of adjacent wells in the training dataset."
   ]
  },
  {
   "cell_type": "code",
   "execution_count": null,
   "metadata": {},
   "outputs": [],
   "source": [
    "import glob\n",
    "import pandas as pd\n",
    "import matplotlib.pyplot as plt\n",
    "import seaborn as sns\n",
    "from sklearn.model_selection import train_test_split\n",
    "from sklearn.model_selection import cross_val_score\n",
    "from sklearn.model_selection import GridSearchCV\n",
    "from sklearn.neighbors import KNeighborsClassifier\n",
    "sns.set()"
   ]
  },
  {
   "cell_type": "code",
   "execution_count": null,
   "metadata": {},
   "outputs": [],
   "source": [
    "%matplotlib inline"
   ]
  },
  {
   "cell_type": "code",
   "execution_count": null,
   "metadata": {},
   "outputs": [],
   "source": [
    "# point this to the directory with the generated training data\n",
    "# with the different number of adjacent wells\n",
    "TRAINING_FILES = glob.glob(r\"PATH/TO/DIR/*.csv\") # If you don't change this it won't run"
   ]
  },
  {
   "cell_type": "code",
   "execution_count": null,
   "metadata": {},
   "outputs": [],
   "source": [
    "ACCURACY_MEASURED = []  # for the cross-validation accuracy\n",
    "NUM_NEIGHBORS = []  # the number of adjacent wells\n",
    "grid_params = {\n",
    "    \"n_neighbors\": [5, 10, 20, 40, 80],\n",
    "    \"weights\": [\"uniform\", \"distance\"],\n",
    "    \"metric\": [\"euclidean\", \"manhattan\"],\n",
    "    \"algorithm\": [\"ball_tree\", \"kd_tree\", \"brute\"],\n",
    "    \"leaf_size\": [10, 30],\n",
    "}\n",
    "\n",
    "for file in TRAINING_FILES:\n",
    "    print(f\"reading {file[-15:]}\")\n",
    "    no_of_neighbors = int(file[33:-13])\n",
    "    dataset = pd.read_csv(file, index_col=[0])\n",
    "    data_subset0 = dataset.drop([\"class\"], axis=1)\n",
    "\n",
    "    X_train, X_test, y_train, y_test = train_test_split(\n",
    "        dataset.drop(\"class\", axis=1), dataset[\"class\"], test_size=0.2, random_state=86,\n",
    "    )\n",
    "    gs = GridSearchCV(KNeighborsClassifier(), grid_params, verbose=8, cv=5, n_jobs=7)\n",
    "    gs_results = gs.fit(X_train, y_train)\n",
    "    neigh = KNeighborsClassifier(**gs.best_params_)\n",
    "\n",
    "    cved = cross_val_score(\n",
    "        neigh,\n",
    "        dataset.drop(\"class\", axis=1),\n",
    "        dataset[\"class\"],\n",
    "        cv=10,\n",
    "        scoring=\"accuracy\",\n",
    "    )\n",
    "    ACCURACY_MEASURED.append(cved)\n",
    "    NUM_NEIGHBORS.append(file[-16:-13])"
   ]
  },
  {
   "cell_type": "code",
   "execution_count": null,
   "metadata": {},
   "outputs": [],
   "source": [
    "MEAN_ACCURACY = []\n",
    "for i in enumerate(ACCURACY_MEASURED):\n",
    "    plt.plot(ACCURACY_MEASURED[i[0]], label=str(NUM_NEIGHBORS[i[0]]) + \" Neighbors\")\n",
    "    MEAN_ACCURACY.append(ACCURACY_MEASURED[i[0]].mean().round(4))\n",
    "    plt.legend()\n",
    "plt.xlabel(\"Fold Number\")\n",
    "plt.ylabel(\"Accuracy\")"
   ]
  },
  {
   "cell_type": "code",
   "execution_count": null,
   "metadata": {},
   "outputs": [],
   "source": [
    "plt.plot(NUM_NEIGHBORS, MEAN_ACCURACY)\n",
    "plt.xlabel(\"number of adjacent wells\")\n",
    "plt.ylabel(\"mean cross-validated accuracy\")"
   ]
  },
  {
   "cell_type": "code",
   "execution_count": null,
   "metadata": {},
   "outputs": [],
   "source": []
  }
 ],
 "metadata": {
  "jupytext": {
   "formats": "ipynb,py:light"
  },
  "kernelspec": {
   "display_name": "Python 3",
   "language": "python",
   "name": "python3"
  },
  "language_info": {
   "codemirror_mode": {
    "name": "ipython",
    "version": 3
   },
   "file_extension": ".py",
   "mimetype": "text/x-python",
   "name": "python",
   "nbconvert_exporter": "python",
   "pygments_lexer": "ipython3",
   "version": "3.8.5"
  }
 },
 "nbformat": 4,
 "nbformat_minor": 4
}
