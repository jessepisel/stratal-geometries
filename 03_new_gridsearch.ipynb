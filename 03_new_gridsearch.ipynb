{
 "cells": [
  {
   "cell_type": "code",
   "execution_count": 1,
   "metadata": {},
   "outputs": [],
   "source": [
    "import pandas as pd\n",
    "import matplotlib.pyplot as plt\n",
    "import seaborn as sns\n",
    "from sklearn.model_selection import train_test_split\n",
    "from sklearn.model_selection import cross_val_score\n",
    "from sklearn.model_selection import GridSearchCV\n",
    "from sklearn.ensemble import RandomForestClassifier\n",
    "sns.set()"
   ]
  },
  {
   "cell_type": "code",
   "execution_count": 2,
   "metadata": {},
   "outputs": [],
   "source": [
    "%matplotlib inline"
   ]
  },
  {
   "cell_type": "code",
   "execution_count": 3,
   "metadata": {},
   "outputs": [],
   "source": [
    "def flatten(container):\n",
    "    \"Flattens lists\"\n",
    "    for i in container:\n",
    "        if isinstance(i, (list, tuple)):\n",
    "            for j in flatten(i):\n",
    "                yield j\n",
    "        else:\n",
    "            yield i\n",
    "\n",
    "def feature_list(no_of_neighbors):\n",
    "    \"\"\"\n",
    "    Creates a list of features given number of adjacent wells\n",
    "    param no_of_neighbors: number of adjacent wells used in feature engineering\n",
    "    \"\"\"\n",
    "    print(\"Getting the features\")\n",
    "    initial = [\"thickness\", \"thickness natural log\", \"thickness power\"]\n",
    "    features = []\n",
    "    for item in initial:\n",
    "        features.append(item)\n",
    "        for i in range(1, no_of_neighbors + 1):\n",
    "            features.append(item + \" neighbor \" + str(i))\n",
    "    features.append([\"x location\", \"y location\", \"class\"])\n",
    "    return list(flatten(features))"
   ]
  },
  {
   "cell_type": "code",
   "execution_count": 4,
   "metadata": {},
   "outputs": [],
   "source": [
    "TRAINING_DATA = pd.read_csv(r'399neighbors.csv', index_col=[0])"
   ]
  },
  {
   "cell_type": "code",
   "execution_count": 15,
   "metadata": {},
   "outputs": [
    {
     "name": "stdout",
     "output_type": "stream",
     "text": [
      "0 number of wells in vicinity\n",
      "Getting the features\n",
      "Fitting 5 folds for each of 972 candidates, totalling 4860 fits\n"
     ]
    },
    {
     "name": "stderr",
     "output_type": "stream",
     "text": [
      "[Parallel(n_jobs=7)]: Using backend LokyBackend with 7 concurrent workers.\n",
      "[Parallel(n_jobs=7)]: Done   4 tasks      | elapsed:    0.0s\n",
      "[Parallel(n_jobs=7)]: Done  40 tasks      | elapsed:    5.9s\n",
      "[Parallel(n_jobs=7)]: Done  79 tasks      | elapsed:   16.4s\n",
      "[Parallel(n_jobs=7)]: Done 120 tasks      | elapsed:   26.3s\n",
      "[Parallel(n_jobs=7)]: Done 169 tasks      | elapsed:   33.4s\n",
      "[Parallel(n_jobs=7)]: Done 228 tasks      | elapsed:   37.0s\n",
      "[Parallel(n_jobs=7)]: Done 295 tasks      | elapsed:   41.2s\n",
      "[Parallel(n_jobs=7)]: Done 372 tasks      | elapsed:   45.6s\n",
      "[Parallel(n_jobs=7)]: Done 457 tasks      | elapsed:  1.1min\n",
      "[Parallel(n_jobs=7)]: Done 552 tasks      | elapsed:  1.7min\n",
      "[Parallel(n_jobs=7)]: Done 655 tasks      | elapsed:  1.8min\n",
      "[Parallel(n_jobs=7)]: Done 768 tasks      | elapsed:  1.9min\n",
      "[Parallel(n_jobs=7)]: Done 889 tasks      | elapsed:  2.5min\n",
      "[Parallel(n_jobs=7)]: Done 1020 tasks      | elapsed:  3.0min\n",
      "[Parallel(n_jobs=7)]: Done 1159 tasks      | elapsed:  3.2min\n",
      "[Parallel(n_jobs=7)]: Done 1308 tasks      | elapsed:  3.7min\n",
      "[Parallel(n_jobs=7)]: Done 1465 tasks      | elapsed:  4.1min\n",
      "[Parallel(n_jobs=7)]: Done 1632 tasks      | elapsed:  4.3min\n",
      "[Parallel(n_jobs=7)]: Done 1807 tasks      | elapsed:  5.5min\n",
      "[Parallel(n_jobs=7)]: Done 1992 tasks      | elapsed:  5.6min\n",
      "[Parallel(n_jobs=7)]: Done 2185 tasks      | elapsed:  6.9min\n",
      "[Parallel(n_jobs=7)]: Done 2388 tasks      | elapsed:  7.1min\n",
      "[Parallel(n_jobs=7)]: Done 2599 tasks      | elapsed:  7.7min\n",
      "[Parallel(n_jobs=7)]: Done 2820 tasks      | elapsed:  7.9min\n",
      "[Parallel(n_jobs=7)]: Done 3049 tasks      | elapsed:  9.1min\n",
      "[Parallel(n_jobs=7)]: Done 3288 tasks      | elapsed:  9.8min\n",
      "[Parallel(n_jobs=7)]: Done 3535 tasks      | elapsed: 10.6min\n",
      "[Parallel(n_jobs=7)]: Done 3792 tasks      | elapsed: 11.3min\n",
      "[Parallel(n_jobs=7)]: Done 4057 tasks      | elapsed: 11.6min\n",
      "[Parallel(n_jobs=7)]: Done 4332 tasks      | elapsed: 13.3min\n",
      "[Parallel(n_jobs=7)]: Done 4615 tasks      | elapsed: 15.1min\n",
      "[Parallel(n_jobs=7)]: Done 4860 out of 4860 | elapsed: 15.4min finished\n"
     ]
    },
    {
     "name": "stdout",
     "output_type": "stream",
     "text": [
      "1 number of wells in vicinity\n",
      "Getting the features\n",
      "Fitting 5 folds for each of 972 candidates, totalling 4860 fits\n"
     ]
    },
    {
     "name": "stderr",
     "output_type": "stream",
     "text": [
      "[Parallel(n_jobs=7)]: Using backend LokyBackend with 7 concurrent workers.\n",
      "[Parallel(n_jobs=7)]: Done   4 tasks      | elapsed:    0.0s\n",
      "[Parallel(n_jobs=7)]: Done  40 tasks      | elapsed:    6.1s\n",
      "[Parallel(n_jobs=7)]: Done  79 tasks      | elapsed:   16.9s\n",
      "[Parallel(n_jobs=7)]: Done 120 tasks      | elapsed:   28.9s\n",
      "[Parallel(n_jobs=7)]: Done 169 tasks      | elapsed:   37.0s\n",
      "[Parallel(n_jobs=7)]: Done 228 tasks      | elapsed:   41.0s\n",
      "[Parallel(n_jobs=7)]: Done 295 tasks      | elapsed:   44.8s\n",
      "[Parallel(n_jobs=7)]: Done 372 tasks      | elapsed:   49.3s\n",
      "[Parallel(n_jobs=7)]: Done 457 tasks      | elapsed:  1.2min\n",
      "[Parallel(n_jobs=7)]: Done 552 tasks      | elapsed:  1.8min\n",
      "[Parallel(n_jobs=7)]: Done 655 tasks      | elapsed:  2.0min\n",
      "[Parallel(n_jobs=7)]: Done 768 tasks      | elapsed:  2.1min\n",
      "[Parallel(n_jobs=7)]: Done 889 tasks      | elapsed:  2.7min\n",
      "[Parallel(n_jobs=7)]: Done 1020 tasks      | elapsed:  3.1min\n",
      "[Parallel(n_jobs=7)]: Done 1159 tasks      | elapsed:  3.2min\n",
      "[Parallel(n_jobs=7)]: Done 1308 tasks      | elapsed:  3.8min\n",
      "[Parallel(n_jobs=7)]: Done 1465 tasks      | elapsed:  4.1min\n",
      "[Parallel(n_jobs=7)]: Done 1632 tasks      | elapsed:  4.3min\n",
      "[Parallel(n_jobs=7)]: Done 1807 tasks      | elapsed:  5.5min\n",
      "[Parallel(n_jobs=7)]: Done 1992 tasks      | elapsed:  5.7min\n",
      "[Parallel(n_jobs=7)]: Done 2185 tasks      | elapsed:  6.9min\n",
      "[Parallel(n_jobs=7)]: Done 2388 tasks      | elapsed:  7.1min\n",
      "[Parallel(n_jobs=7)]: Done 2599 tasks      | elapsed:  7.7min\n",
      "[Parallel(n_jobs=7)]: Done 2820 tasks      | elapsed:  7.9min\n",
      "[Parallel(n_jobs=7)]: Done 3049 tasks      | elapsed:  9.1min\n",
      "[Parallel(n_jobs=7)]: Done 3288 tasks      | elapsed:  9.7min\n",
      "[Parallel(n_jobs=7)]: Done 3535 tasks      | elapsed: 10.5min\n",
      "[Parallel(n_jobs=7)]: Done 3792 tasks      | elapsed: 11.2min\n",
      "[Parallel(n_jobs=7)]: Done 4057 tasks      | elapsed: 11.6min\n",
      "[Parallel(n_jobs=7)]: Done 4332 tasks      | elapsed: 13.1min\n",
      "[Parallel(n_jobs=7)]: Done 4615 tasks      | elapsed: 14.8min\n",
      "[Parallel(n_jobs=7)]: Done 4860 out of 4860 | elapsed: 15.1min finished\n"
     ]
    }
   ],
   "source": [
    "ACCURACY_MEASURED = []  # for the cross-validation accuracy\n",
    "VICINITY = []  # the number of adjacent wells\n",
    "grid_params = {\n",
    "    'bootstrap': [True, False],\n",
    "    'max_depth': [1, 10, 100],\n",
    "    'max_features': [1, 100, 500],\n",
    "    'min_samples_leaf': [10, 100, 1000],\n",
    "    'min_samples_split': [10, 100, 1000],\n",
    "    'n_estimators': [10, 100, 1000],\n",
    "    'criterion': ['gini', 'entropy']\n",
    "}\n",
    "\n",
    "\n",
    "for i in range(400):\n",
    "    print(f'{i} number of wells in vicinity')\n",
    "    wells_in_vicinity = i\n",
    "    flat_features = feature_list(wells_in_vicinity)\n",
    "    subset = TRAINING_DATA[flat_features]\n",
    "    X_train, X_test, y_train, y_test = train_test_split(\n",
    "        subset.drop(\"class\", axis=1), subset[\"class\"], test_size=0.2, random_state=86,\n",
    "    )\n",
    "    gs = GridSearchCV(RandomForestClassifier(), grid_params, verbose=8, cv=5, n_jobs=7)\n",
    "    gs_results = gs.fit(X_train, y_train)\n",
    "    rtclf = RandomForestClassifier(**gs.best_params_)\n",
    "\n",
    "    cved = cross_val_score(\n",
    "        rtclf,\n",
    "        #dataset.drop(\"class\", axis=1),\n",
    "        #dataset[\"class\"],\n",
    "        X_test,\n",
    "        y_test,\n",
    "        cv=5,\n",
    "        scoring=\"accuracy\",\n",
    "    )\n",
    "    ACCURACY_MEASURED.append(cved)\n",
    "    VICINITY.append(wells_in_vicinity)"
   ]
  },
  {
   "cell_type": "code",
   "execution_count": 16,
   "metadata": {},
   "outputs": [
    {
     "data": {
      "text/plain": [
       "Text(0, 0.5, 'Accuracy')"
      ]
     },
     "execution_count": 16,
     "metadata": {},
     "output_type": "execute_result"
    },
    {
     "data": {
      "image/png": "[encoded data removed]",
      "text/plain": [
       "<Figure size 432x288 with 1 Axes>"
      ]
     },
     "metadata": {
      "needs_background": "light"
     },
     "output_type": "display_data"
    }
   ],
   "source": [
    "MEAN_ACCURACY = []\n",
    "for i in enumerate(ACCURACY_MEASURED):\n",
    "    plt.plot(ACCURACY_MEASURED[i[0]], label=str(VICINITY[i[0]]) + \" Neighbors\")\n",
    "    MEAN_ACCURACY.append(ACCURACY_MEASURED[i[0]].mean().round(4))\n",
    "    plt.legend()\n",
    "plt.xlabel(\"Fold Number\")\n",
    "plt.ylabel(\"Accuracy\")"
   ]
  },
  {
   "cell_type": "code",
   "execution_count": 17,
   "metadata": {},
   "outputs": [
    {
     "data": {
      "text/plain": [
       "Text(0, 0.5, 'mean cross-validated accuracy')"
      ]
     },
     "execution_count": 17,
     "metadata": {},
     "output_type": "execute_result"
    },
    {
     "data": {
      "image/png": "[encoded data removed]",
      "text/plain": [
       "<Figure size 432x288 with 1 Axes>"
      ]
     },
     "metadata": {
      "needs_background": "light"
     },
     "output_type": "display_data"
    }
   ],
   "source": [
    "plt.plot(VICINITY, MEAN_ACCURACY)\n",
    "plt.xlabel(\"number of adjacent wells\")\n",
    "plt.ylabel(\"mean cross-validated accuracy\")"
   ]
  },
  {
   "cell_type": "code",
   "execution_count": 13,
   "metadata": {},
   "outputs": [
    {
     "data": {
      "text/plain": [
       "RandomForestClassifier(criterion='entropy', max_depth=100, max_features=1,\n",
       "                       min_samples_split=10, n_estimators=1000)"
      ]
     },
     "execution_count": 13,
     "metadata": {},
     "output_type": "execute_result"
    }
   ],
   "source": [
    "rtclf"
   ]
  },
  {
   "cell_type": "code",
   "execution_count": null,
   "metadata": {},
   "outputs": [],
   "source": []
  }
 ],
 "metadata": {
  "kernelspec": {
   "display_name": "Python 3",
   "language": "python",
   "name": "python3"
  },
  "language_info": {
   "codemirror_mode": {
    "name": "ipython",
    "version": 3
   },
   "file_extension": ".py",
   "mimetype": "text/x-python",
   "name": "python",
   "nbconvert_exporter": "python",
   "pygments_lexer": "ipython3",
   "version": "3.8.5"
  }
 },
 "nbformat": 4,
 "nbformat_minor": 4
}
